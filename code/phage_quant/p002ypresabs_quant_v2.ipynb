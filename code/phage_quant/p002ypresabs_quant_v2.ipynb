{
 "cells": [
  {
   "cell_type": "code",
   "execution_count": null,
   "metadata": {},
   "outputs": [],
   "source": [
    "## This file implements neural networks and logistic regression on p002ypresabs_quant.\n",
    "## Due to the imbalanced dataset, we implement the over-sampling method and the combination of over- and under-sampling\n",
    "## method.\n",
    "## To deal with overfitting problem, we include both dropout and regularizer when set up layers in neural networks.\n",
    "## For fully-connected neural networks, the accuracy is 100% for combination data, and 99.32% for over-sampling data.\n",
    "## For logistic regression, the accuracy is 99.3% for combination data, and 100% for over-sampling data.\n",
    "## Since the accuracy scores are pretty high in logistic regression, we further construct random forest models, which \n",
    "## are relatively less likely to bring overfitting compared to decision tree.\n",
    "## For random forest, the accuracy is 99.3% for combination data, and 100% for over-sampling data.\n",
    "## For random forest with cross-validation, the mean accuracy is 99.6% for combination data, and 97.4% for over-sampling."
   ]
  },
  {
   "cell_type": "code",
   "execution_count": 1,
   "metadata": {},
   "outputs": [
    {
     "data": {
      "text/plain": [
       "(255, 1759)"
      ]
     },
     "execution_count": 1,
     "metadata": {},
     "output_type": "execute_result"
    }
   ],
   "source": [
    "import pandas as pd\n",
    "\n",
    "df = pd.read_csv('/Users/Rebecca/Desktop/Claudia/neural network/phage_quant/p002ypresabs_quant.csv')\n",
    "df.shape"
   ]
  },
  {
   "cell_type": "code",
   "execution_count": 2,
   "metadata": {},
   "outputs": [],
   "source": [
    "df.rename(columns={'Unnamed: 0':'id'}, inplace=True)"
   ]
  },
  {
   "cell_type": "code",
   "execution_count": 3,
   "metadata": {},
   "outputs": [
    {
     "data": {
      "text/plain": [
       "0      0.194875\n",
       "1      0.265250\n",
       "2      0.440625\n",
       "3      0.175500\n",
       "4      0.173625\n",
       "5      0.270375\n",
       "6      0.171000\n",
       "7      0.182500\n",
       "8      0.278875\n",
       "9      0.174375\n",
       "10     0.176250\n",
       "11     0.411125\n",
       "12     0.178250\n",
       "13     0.191500\n",
       "14     0.164875\n",
       "15     0.181875\n",
       "16     0.394125\n",
       "17     0.364875\n",
       "18     0.409875\n",
       "19     0.191875\n",
       "20     0.236125\n",
       "21     0.277000\n",
       "22     0.169875\n",
       "23     0.171625\n",
       "24     0.523625\n",
       "25     0.169500\n",
       "26     0.381000\n",
       "27     0.170000\n",
       "28     0.160750\n",
       "29     0.389750\n",
       "         ...   \n",
       "225    0.230500\n",
       "226    0.279800\n",
       "227    0.319500\n",
       "228    0.424100\n",
       "229    0.460500\n",
       "230    0.304750\n",
       "231    0.193875\n",
       "232    0.243000\n",
       "233    0.195750\n",
       "234    0.184750\n",
       "235    0.329125\n",
       "236    0.160000\n",
       "237    0.157500\n",
       "238    0.176375\n",
       "239    0.326750\n",
       "240    0.355750\n",
       "241    0.281375\n",
       "242    0.181875\n",
       "243    0.174125\n",
       "244    0.359250\n",
       "245    0.161375\n",
       "246    0.185875\n",
       "247    0.172750\n",
       "248    0.167750\n",
       "249    0.179875\n",
       "250    0.365375\n",
       "251    0.223500\n",
       "252    0.170750\n",
       "253    0.261125\n",
       "254    0.231000\n",
       "Name: pheno, Length: 255, dtype: float64"
      ]
     },
     "execution_count": 3,
     "metadata": {},
     "output_type": "execute_result"
    }
   ],
   "source": [
    "df['pheno']"
   ]
  },
  {
   "cell_type": "code",
   "execution_count": 4,
   "metadata": {},
   "outputs": [],
   "source": [
    "if 0.5 in df['pheno']:\n",
    "    print: \"0.5 is in the list\""
   ]
  },
  {
   "cell_type": "code",
   "execution_count": 5,
   "metadata": {},
   "outputs": [],
   "source": [
    "df['pheno'] = [1 if i>0.5 else 0 for i in df['pheno']] # convert pheno into binary"
   ]
  },
  {
   "cell_type": "code",
   "execution_count": 6,
   "metadata": {},
   "outputs": [
    {
     "data": {
      "text/plain": [
       "0    244\n",
       "1     11\n",
       "Name: pheno, dtype: int64"
      ]
     },
     "execution_count": 6,
     "metadata": {},
     "output_type": "execute_result"
    }
   ],
   "source": [
    "df['pheno']\n",
    "df['pheno'].value_counts()"
   ]
  },
  {
   "cell_type": "code",
   "execution_count": 7,
   "metadata": {},
   "outputs": [
    {
     "data": {
      "text/plain": [
       "(255, 1759)"
      ]
     },
     "execution_count": 7,
     "metadata": {},
     "output_type": "execute_result"
    }
   ],
   "source": [
    "df.shape"
   ]
  },
  {
   "cell_type": "code",
   "execution_count": 8,
   "metadata": {},
   "outputs": [],
   "source": [
    "df_clean = df.drop(columns=['id'])"
   ]
  },
  {
   "cell_type": "code",
   "execution_count": 9,
   "metadata": {},
   "outputs": [
    {
     "data": {
      "text/plain": [
       "(255, 1758)"
      ]
     },
     "execution_count": 9,
     "metadata": {},
     "output_type": "execute_result"
    }
   ],
   "source": [
    "df_clean.shape"
   ]
  },
  {
   "cell_type": "code",
   "execution_count": null,
   "metadata": {},
   "outputs": [],
   "source": []
  },
  {
   "cell_type": "code",
   "execution_count": 10,
   "metadata": {},
   "outputs": [
    {
     "name": "stdout",
     "output_type": "stream",
     "text": [
      "(255, 1757) (255,)\n"
     ]
    }
   ],
   "source": [
    "X = df_clean.loc[:, df_clean.columns != 'pheno'].values\n",
    "y = df_clean['pheno'].values\n",
    "print(X.shape, y.shape)"
   ]
  },
  {
   "cell_type": "code",
   "execution_count": 11,
   "metadata": {},
   "outputs": [
    {
     "name": "stderr",
     "output_type": "stream",
     "text": [
      "Using TensorFlow backend.\n"
     ]
    },
    {
     "name": "stdout",
     "output_type": "stream",
     "text": [
      "[(0, 235), (1, 241)]\n"
     ]
    }
   ],
   "source": [
    "# combination of under- and over- sampling\n",
    "from collections import Counter\n",
    "from sklearn.datasets import make_classification\n",
    "from imblearn.combine import SMOTEENN\n",
    "smote_enn = SMOTEENN(random_state=100)\n",
    "X_comb, y_comb = smote_enn.fit_resample(X, y)\n",
    "print(sorted(Counter(y_comb).items()))"
   ]
  },
  {
   "cell_type": "code",
   "execution_count": 12,
   "metadata": {},
   "outputs": [
    {
     "name": "stdout",
     "output_type": "stream",
     "text": [
      "[(0, 244), (1, 244)]\n"
     ]
    }
   ],
   "source": [
    "# over-sampling\n",
    "from imblearn.over_sampling import RandomOverSampler\n",
    "overS = RandomOverSampler(random_state=100)\n",
    "X_over, y_over = overS.fit_resample(X, y)\n",
    "print(sorted(Counter(y_over).items()))"
   ]
  },
  {
   "cell_type": "code",
   "execution_count": null,
   "metadata": {},
   "outputs": [],
   "source": []
  },
  {
   "cell_type": "code",
   "execution_count": 13,
   "metadata": {},
   "outputs": [],
   "source": [
    "# split into train, validation, and test data (combination)\n",
    "from sklearn.model_selection import train_test_split\n",
    "X_train_comb, X_test_comb, y_train_comb, y_test_comb = train_test_split(X_comb, y_comb,\n",
    "                                                    test_size = 0.3,\n",
    "                                                    random_state=123,\n",
    "                                                    stratify=y_comb)"
   ]
  },
  {
   "cell_type": "code",
   "execution_count": 14,
   "metadata": {},
   "outputs": [],
   "source": [
    "# split into train, test data (over)\n",
    "from sklearn.model_selection import train_test_split\n",
    "X_train_over, X_test_over, y_train_over, y_test_over = train_test_split(X_over, y_over,\n",
    "                                                    test_size = 0.3,\n",
    "                                                    random_state=123,\n",
    "                                                    stratify=y_over)"
   ]
  },
  {
   "cell_type": "code",
   "execution_count": null,
   "metadata": {},
   "outputs": [],
   "source": []
  },
  {
   "cell_type": "code",
   "execution_count": 15,
   "metadata": {},
   "outputs": [
    {
     "name": "stdout",
     "output_type": "stream",
     "text": [
      "Requirement already satisfied: keras in /Users/Rebecca/anaconda3/lib/python3.7/site-packages (2.3.1)\n",
      "Requirement already satisfied: six>=1.9.0 in /Users/Rebecca/anaconda3/lib/python3.7/site-packages (from keras) (1.12.0)\n",
      "Requirement already satisfied: pyyaml in /Users/Rebecca/anaconda3/lib/python3.7/site-packages (from keras) (5.1)\n",
      "Requirement already satisfied: h5py in /Users/Rebecca/anaconda3/lib/python3.7/site-packages (from keras) (2.9.0)\n",
      "Requirement already satisfied: numpy>=1.9.1 in /Users/Rebecca/anaconda3/lib/python3.7/site-packages (from keras) (1.16.2)\n",
      "Requirement already satisfied: scipy>=0.14 in /Users/Rebecca/anaconda3/lib/python3.7/site-packages (from keras) (1.2.1)\n",
      "Requirement already satisfied: keras-preprocessing>=1.0.5 in /Users/Rebecca/anaconda3/lib/python3.7/site-packages (from keras) (1.1.0)\n",
      "Requirement already satisfied: keras-applications>=1.0.6 in /Users/Rebecca/anaconda3/lib/python3.7/site-packages (from keras) (1.0.8)\n",
      "Note: you may need to restart the kernel to use updated packages.\n"
     ]
    }
   ],
   "source": [
    "pip install keras"
   ]
  },
  {
   "cell_type": "code",
   "execution_count": 16,
   "metadata": {},
   "outputs": [],
   "source": [
    "############# Fully-Connected Neural Network ################"
   ]
  },
  {
   "cell_type": "code",
   "execution_count": 17,
   "metadata": {},
   "outputs": [],
   "source": [
    "from keras.models import Sequential\n",
    "from keras.layers import Dense\n",
    "from keras.layers import Dropout\n",
    "from keras.regularizers import l1"
   ]
  },
  {
   "cell_type": "code",
   "execution_count": 18,
   "metadata": {},
   "outputs": [],
   "source": [
    "#### neural network on combination data\n",
    "model1_comb = Sequential([\n",
    "    Dense(32, activation='relu', input_shape=(X_train_comb.shape[1],), activity_regularizer=l1(0.001)),\n",
    "    Dense(1, activation='sigmoid'),\n",
    "    Dropout(0.2, ),\n",
    "])"
   ]
  },
  {
   "cell_type": "code",
   "execution_count": 19,
   "metadata": {},
   "outputs": [],
   "source": [
    "model1_comb.compile(optimizer='sgd',\n",
    "              loss='binary_crossentropy',\n",
    "              metrics=['accuracy'])"
   ]
  },
  {
   "cell_type": "code",
   "execution_count": 20,
   "metadata": {},
   "outputs": [
    {
     "name": "stdout",
     "output_type": "stream",
     "text": [
      "Train on 333 samples, validate on 143 samples\n",
      "Epoch 1/100\n",
      "333/333 [==============================] - 0s 788us/step - loss: 2.0204 - accuracy: 0.7207 - val_loss: 0.6234 - val_accuracy: 0.8601\n",
      "Epoch 2/100\n",
      "333/333 [==============================] - 0s 154us/step - loss: 2.0650 - accuracy: 0.8078 - val_loss: 0.5509 - val_accuracy: 0.8182\n",
      "Epoch 3/100\n",
      "333/333 [==============================] - 0s 176us/step - loss: 1.5537 - accuracy: 0.8468 - val_loss: 0.5270 - val_accuracy: 0.8182\n",
      "Epoch 4/100\n",
      "333/333 [==============================] - 0s 148us/step - loss: 1.8920 - accuracy: 0.8649 - val_loss: 0.4832 - val_accuracy: 0.8671\n",
      "Epoch 5/100\n",
      "333/333 [==============================] - 0s 142us/step - loss: 1.8230 - accuracy: 0.8589 - val_loss: 0.4564 - val_accuracy: 0.9231\n",
      "Epoch 6/100\n",
      "333/333 [==============================] - 0s 300us/step - loss: 1.9959 - accuracy: 0.8498 - val_loss: 0.4770 - val_accuracy: 0.8671\n",
      "Epoch 7/100\n",
      "333/333 [==============================] - 0s 182us/step - loss: 2.3043 - accuracy: 0.8468 - val_loss: 0.4361 - val_accuracy: 0.8881\n",
      "Epoch 8/100\n",
      "333/333 [==============================] - 0s 144us/step - loss: 1.7679 - accuracy: 0.8949 - val_loss: 0.4173 - val_accuracy: 0.9091\n",
      "Epoch 9/100\n",
      "333/333 [==============================] - 0s 158us/step - loss: 1.5297 - accuracy: 0.9099 - val_loss: 0.4021 - val_accuracy: 0.9231\n",
      "Epoch 10/100\n",
      "333/333 [==============================] - 0s 139us/step - loss: 1.8930 - accuracy: 0.8769 - val_loss: 0.3804 - val_accuracy: 0.9441\n",
      "Epoch 11/100\n",
      "333/333 [==============================] - 0s 141us/step - loss: 1.5115 - accuracy: 0.9069 - val_loss: 0.3699 - val_accuracy: 0.9510\n",
      "Epoch 12/100\n",
      "333/333 [==============================] - 0s 174us/step - loss: 2.4212 - accuracy: 0.8498 - val_loss: 0.3600 - val_accuracy: 0.9790\n",
      "Epoch 13/100\n",
      "333/333 [==============================] - 0s 120us/step - loss: 1.5849 - accuracy: 0.9069 - val_loss: 0.3585 - val_accuracy: 0.9720\n",
      "Epoch 14/100\n",
      "333/333 [==============================] - 0s 152us/step - loss: 1.9946 - accuracy: 0.8709 - val_loss: 0.3438 - val_accuracy: 0.9720\n",
      "Epoch 15/100\n",
      "333/333 [==============================] - 0s 124us/step - loss: 1.5723 - accuracy: 0.9039 - val_loss: 0.3335 - val_accuracy: 0.9790\n",
      "Epoch 16/100\n",
      "333/333 [==============================] - 0s 122us/step - loss: 1.5199 - accuracy: 0.9069 - val_loss: 0.3256 - val_accuracy: 0.9790\n",
      "Epoch 17/100\n",
      "333/333 [==============================] - 0s 128us/step - loss: 1.8348 - accuracy: 0.8919 - val_loss: 0.3200 - val_accuracy: 0.9860\n",
      "Epoch 18/100\n",
      "333/333 [==============================] - 0s 161us/step - loss: 1.4950 - accuracy: 0.9099 - val_loss: 0.3211 - val_accuracy: 0.9860\n",
      "Epoch 19/100\n",
      "333/333 [==============================] - 0s 128us/step - loss: 2.0636 - accuracy: 0.8709 - val_loss: 0.3103 - val_accuracy: 0.9930\n",
      "Epoch 20/100\n",
      "333/333 [==============================] - 0s 142us/step - loss: 1.5456 - accuracy: 0.9069 - val_loss: 0.3025 - val_accuracy: 0.9930\n",
      "Epoch 21/100\n",
      "333/333 [==============================] - 0s 144us/step - loss: 1.7210 - accuracy: 0.8979 - val_loss: 0.2951 - val_accuracy: 1.0000\n",
      "Epoch 22/100\n",
      "333/333 [==============================] - 0s 156us/step - loss: 2.1265 - accuracy: 0.8679 - val_loss: 0.2964 - val_accuracy: 0.9930\n",
      "Epoch 23/100\n",
      "333/333 [==============================] - 0s 279us/step - loss: 2.3106 - accuracy: 0.8559 - val_loss: 0.2902 - val_accuracy: 0.9930\n",
      "Epoch 24/100\n",
      "333/333 [==============================] - 0s 150us/step - loss: 1.1502 - accuracy: 0.9309 - val_loss: 0.2793 - val_accuracy: 1.0000\n",
      "Epoch 25/100\n",
      "333/333 [==============================] - 0s 437us/step - loss: 1.7911 - accuracy: 0.8919 - val_loss: 0.2779 - val_accuracy: 1.0000\n",
      "Epoch 26/100\n",
      "333/333 [==============================] - 0s 534us/step - loss: 2.0262 - accuracy: 0.8739 - val_loss: 0.2725 - val_accuracy: 1.0000\n",
      "Epoch 27/100\n",
      "333/333 [==============================] - 0s 168us/step - loss: 1.7874 - accuracy: 0.8889 - val_loss: 0.2724 - val_accuracy: 1.0000\n",
      "Epoch 28/100\n",
      "333/333 [==============================] - 0s 208us/step - loss: 1.5570 - accuracy: 0.9009 - val_loss: 0.2657 - val_accuracy: 1.0000\n",
      "Epoch 29/100\n",
      "333/333 [==============================] - 0s 169us/step - loss: 1.5575 - accuracy: 0.9039 - val_loss: 0.2621 - val_accuracy: 1.0000\n",
      "Epoch 30/100\n",
      "333/333 [==============================] - 0s 291us/step - loss: 1.4580 - accuracy: 0.9129 - val_loss: 0.2578 - val_accuracy: 1.0000\n",
      "Epoch 31/100\n",
      "333/333 [==============================] - 0s 226us/step - loss: 1.9643 - accuracy: 0.8769 - val_loss: 0.2541 - val_accuracy: 1.0000\n",
      "Epoch 32/100\n",
      "333/333 [==============================] - 0s 193us/step - loss: 1.5911 - accuracy: 0.9039 - val_loss: 0.2724 - val_accuracy: 0.9930\n",
      "Epoch 33/100\n",
      "333/333 [==============================] - 0s 326us/step - loss: 1.9123 - accuracy: 0.8829 - val_loss: 0.2711 - val_accuracy: 0.9930\n",
      "Epoch 34/100\n",
      "333/333 [==============================] - 0s 354us/step - loss: 1.5845 - accuracy: 0.9039 - val_loss: 0.2449 - val_accuracy: 1.0000\n",
      "Epoch 35/100\n",
      "333/333 [==============================] - 0s 150us/step - loss: 1.6805 - accuracy: 0.8949 - val_loss: 0.2448 - val_accuracy: 1.0000\n",
      "Epoch 36/100\n",
      "333/333 [==============================] - 0s 155us/step - loss: 1.3499 - accuracy: 0.9189 - val_loss: 0.2428 - val_accuracy: 1.0000\n",
      "Epoch 37/100\n",
      "333/333 [==============================] - 0s 154us/step - loss: 1.8592 - accuracy: 0.8829 - val_loss: 0.2485 - val_accuracy: 1.0000\n",
      "Epoch 38/100\n",
      "333/333 [==============================] - 0s 172us/step - loss: 1.8109 - accuracy: 0.8859 - val_loss: 0.2436 - val_accuracy: 1.0000\n",
      "Epoch 39/100\n",
      "333/333 [==============================] - 0s 283us/step - loss: 1.7139 - accuracy: 0.8949 - val_loss: 0.2395 - val_accuracy: 1.0000\n",
      "Epoch 40/100\n",
      "333/333 [==============================] - 0s 159us/step - loss: 1.4362 - accuracy: 0.9129 - val_loss: 0.2347 - val_accuracy: 1.0000\n",
      "Epoch 41/100\n",
      "333/333 [==============================] - 0s 146us/step - loss: 1.7159 - accuracy: 0.8919 - val_loss: 0.2358 - val_accuracy: 1.0000\n",
      "Epoch 42/100\n",
      "333/333 [==============================] - 0s 177us/step - loss: 1.7561 - accuracy: 0.8919 - val_loss: 0.2345 - val_accuracy: 1.0000\n",
      "Epoch 43/100\n",
      "333/333 [==============================] - 0s 338us/step - loss: 1.8465 - accuracy: 0.8829 - val_loss: 0.2409 - val_accuracy: 1.0000\n",
      "Epoch 44/100\n",
      "333/333 [==============================] - 0s 276us/step - loss: 1.8494 - accuracy: 0.8829 - val_loss: 0.2306 - val_accuracy: 1.0000\n",
      "Epoch 45/100\n",
      "333/333 [==============================] - 0s 152us/step - loss: 1.7088 - accuracy: 0.8919 - val_loss: 0.2274 - val_accuracy: 1.0000\n",
      "Epoch 46/100\n",
      "333/333 [==============================] - 0s 231us/step - loss: 1.6154 - accuracy: 0.8979 - val_loss: 0.2293 - val_accuracy: 1.0000\n",
      "Epoch 47/100\n",
      "333/333 [==============================] - 0s 144us/step - loss: 1.3363 - accuracy: 0.9159 - val_loss: 0.2256 - val_accuracy: 1.0000\n",
      "Epoch 48/100\n",
      "333/333 [==============================] - 0s 153us/step - loss: 1.5667 - accuracy: 0.9009 - val_loss: 0.2225 - val_accuracy: 1.0000\n",
      "Epoch 49/100\n",
      "333/333 [==============================] - 0s 153us/step - loss: 1.3311 - accuracy: 0.9159 - val_loss: 0.2225 - val_accuracy: 1.0000\n",
      "Epoch 50/100\n",
      "333/333 [==============================] - 0s 134us/step - loss: 1.5156 - accuracy: 0.9069 - val_loss: 0.2209 - val_accuracy: 1.0000\n",
      "Epoch 51/100\n",
      "333/333 [==============================] - 0s 153us/step - loss: 1.6981 - accuracy: 0.8949 - val_loss: 0.2192 - val_accuracy: 1.0000\n",
      "Epoch 52/100\n",
      "333/333 [==============================] - 0s 155us/step - loss: 1.7010 - accuracy: 0.8919 - val_loss: 0.2186 - val_accuracy: 1.0000\n",
      "Epoch 53/100\n",
      "333/333 [==============================] - 0s 156us/step - loss: 1.1431 - accuracy: 0.9279 - val_loss: 0.2199 - val_accuracy: 1.0000\n",
      "Epoch 54/100\n",
      "333/333 [==============================] - 0s 133us/step - loss: 2.1144 - accuracy: 0.8649 - val_loss: 0.2209 - val_accuracy: 1.0000\n",
      "Epoch 55/100\n",
      "333/333 [==============================] - 0s 140us/step - loss: 1.6031 - accuracy: 0.9009 - val_loss: 0.2150 - val_accuracy: 1.0000\n",
      "Epoch 56/100\n",
      "333/333 [==============================] - 0s 134us/step - loss: 1.6456 - accuracy: 0.9009 - val_loss: 0.2150 - val_accuracy: 1.0000\n"
     ]
    },
    {
     "name": "stdout",
     "output_type": "stream",
     "text": [
      "Epoch 57/100\n",
      "333/333 [==============================] - 0s 163us/step - loss: 1.5118 - accuracy: 0.9039 - val_loss: 0.2131 - val_accuracy: 1.0000\n",
      "Epoch 58/100\n",
      "333/333 [==============================] - 0s 125us/step - loss: 1.6023 - accuracy: 0.8979 - val_loss: 0.2130 - val_accuracy: 1.0000\n",
      "Epoch 59/100\n",
      "333/333 [==============================] - 0s 183us/step - loss: 1.5501 - accuracy: 0.9039 - val_loss: 0.2155 - val_accuracy: 1.0000\n",
      "Epoch 60/100\n",
      "333/333 [==============================] - 0s 118us/step - loss: 1.5019 - accuracy: 0.9069 - val_loss: 0.2104 - val_accuracy: 1.0000\n",
      "Epoch 61/100\n",
      "333/333 [==============================] - 0s 100us/step - loss: 1.7349 - accuracy: 0.8889 - val_loss: 0.2121 - val_accuracy: 1.0000\n",
      "Epoch 62/100\n",
      "333/333 [==============================] - 0s 105us/step - loss: 1.4567 - accuracy: 0.9099 - val_loss: 0.2135 - val_accuracy: 1.0000\n",
      "Epoch 63/100\n",
      "333/333 [==============================] - 0s 143us/step - loss: 1.1310 - accuracy: 0.9309 - val_loss: 0.2059 - val_accuracy: 1.0000\n",
      "Epoch 64/100\n",
      "333/333 [==============================] - 0s 101us/step - loss: 1.7338 - accuracy: 0.8919 - val_loss: 0.2085 - val_accuracy: 1.0000\n",
      "Epoch 65/100\n",
      "333/333 [==============================] - 0s 120us/step - loss: 1.9167 - accuracy: 0.8799 - val_loss: 0.2191 - val_accuracy: 1.0000\n",
      "Epoch 66/100\n",
      "333/333 [==============================] - 0s 205us/step - loss: 1.4055 - accuracy: 0.9129 - val_loss: 0.2011 - val_accuracy: 1.0000\n",
      "Epoch 67/100\n",
      "333/333 [==============================] - 0s 120us/step - loss: 1.2673 - accuracy: 0.9219 - val_loss: 0.2064 - val_accuracy: 1.0000\n",
      "Epoch 68/100\n",
      "333/333 [==============================] - 0s 113us/step - loss: 1.5448 - accuracy: 0.9039 - val_loss: 0.2116 - val_accuracy: 1.0000\n",
      "Epoch 69/100\n",
      "333/333 [==============================] - 0s 123us/step - loss: 1.6830 - accuracy: 0.8949 - val_loss: 0.2013 - val_accuracy: 1.0000\n",
      "Epoch 70/100\n",
      "333/333 [==============================] - 0s 413us/step - loss: 1.9124 - accuracy: 0.8799 - val_loss: 0.1998 - val_accuracy: 1.0000\n",
      "Epoch 71/100\n",
      "333/333 [==============================] - 0s 417us/step - loss: 2.1440 - accuracy: 0.8649 - val_loss: 0.2042 - val_accuracy: 1.0000\n",
      "Epoch 72/100\n",
      "333/333 [==============================] - 0s 150us/step - loss: 1.6302 - accuracy: 0.8979 - val_loss: 0.2038 - val_accuracy: 1.0000\n",
      "Epoch 73/100\n",
      "333/333 [==============================] - 0s 123us/step - loss: 1.5849 - accuracy: 0.9039 - val_loss: 0.2044 - val_accuracy: 1.0000\n",
      "Epoch 74/100\n",
      "333/333 [==============================] - 0s 679us/step - loss: 1.3988 - accuracy: 0.9129 - val_loss: 0.2009 - val_accuracy: 1.0000\n",
      "Epoch 75/100\n",
      "333/333 [==============================] - 0s 456us/step - loss: 1.8613 - accuracy: 0.8859 - val_loss: 0.2027 - val_accuracy: 1.0000\n",
      "Epoch 76/100\n",
      "333/333 [==============================] - 0s 127us/step - loss: 1.5846 - accuracy: 0.9009 - val_loss: 0.1973 - val_accuracy: 1.0000\n",
      "Epoch 77/100\n",
      "333/333 [==============================] - 0s 321us/step - loss: 2.0478 - accuracy: 0.8709 - val_loss: 0.2225 - val_accuracy: 1.0000\n",
      "Epoch 78/100\n",
      "333/333 [==============================] - 0s 273us/step - loss: 1.7694 - accuracy: 0.8889 - val_loss: 0.2029 - val_accuracy: 1.0000\n",
      "Epoch 79/100\n",
      "333/333 [==============================] - 0s 299us/step - loss: 1.4447 - accuracy: 0.9099 - val_loss: 0.1980 - val_accuracy: 1.0000\n",
      "Epoch 80/100\n",
      "333/333 [==============================] - 0s 378us/step - loss: 1.5778 - accuracy: 0.9039 - val_loss: 0.1964 - val_accuracy: 1.0000\n",
      "Epoch 81/100\n",
      "333/333 [==============================] - 0s 357us/step - loss: 1.9021 - accuracy: 0.8799 - val_loss: 0.1993 - val_accuracy: 1.0000\n",
      "Epoch 82/100\n",
      "333/333 [==============================] - 0s 327us/step - loss: 1.9524 - accuracy: 0.8769 - val_loss: 0.1997 - val_accuracy: 1.0000\n",
      "Epoch 83/100\n",
      "333/333 [==============================] - 0s 175us/step - loss: 1.7189 - accuracy: 0.8949 - val_loss: 0.1952 - val_accuracy: 1.0000\n",
      "Epoch 84/100\n",
      "333/333 [==============================] - 1s 2ms/step - loss: 1.4857 - accuracy: 0.9099 - val_loss: 0.1882 - val_accuracy: 1.0000\n",
      "Epoch 85/100\n",
      "333/333 [==============================] - 0s 230us/step - loss: 2.0875 - accuracy: 0.8709 - val_loss: 0.1997 - val_accuracy: 1.0000\n",
      "Epoch 86/100\n",
      "333/333 [==============================] - 0s 1ms/step - loss: 1.3942 - accuracy: 0.9159 - val_loss: 0.1940 - val_accuracy: 1.0000\n",
      "Epoch 87/100\n",
      "333/333 [==============================] - 0s 322us/step - loss: 1.8101 - accuracy: 0.8889 - val_loss: 0.1936 - val_accuracy: 1.0000\n",
      "Epoch 88/100\n",
      "333/333 [==============================] - 0s 317us/step - loss: 1.1610 - accuracy: 0.9309 - val_loss: 0.1939 - val_accuracy: 1.0000\n",
      "Epoch 89/100\n",
      "333/333 [==============================] - 0s 1ms/step - loss: 1.5304 - accuracy: 0.9069 - val_loss: 0.1915 - val_accuracy: 1.0000\n",
      "Epoch 90/100\n",
      "333/333 [==============================] - 0s 209us/step - loss: 2.0380 - accuracy: 0.8739 - val_loss: 0.1945 - val_accuracy: 1.0000\n",
      "Epoch 91/100\n",
      "333/333 [==============================] - 0s 144us/step - loss: 1.8053 - accuracy: 0.8889 - val_loss: 0.1939 - val_accuracy: 1.0000\n",
      "Epoch 92/100\n",
      "333/333 [==============================] - 0s 115us/step - loss: 1.9471 - accuracy: 0.8799 - val_loss: 0.1824 - val_accuracy: 1.0000\n",
      "Epoch 93/100\n",
      "333/333 [==============================] - 0s 128us/step - loss: 1.8552 - accuracy: 0.8859 - val_loss: 0.1924 - val_accuracy: 1.0000\n",
      "Epoch 94/100\n",
      "333/333 [==============================] - 0s 125us/step - loss: 1.7597 - accuracy: 0.8919 - val_loss: 0.2027 - val_accuracy: 1.0000\n",
      "Epoch 95/100\n",
      "333/333 [==============================] - 0s 140us/step - loss: 1.6677 - accuracy: 0.8979 - val_loss: 0.1928 - val_accuracy: 1.0000\n",
      "Epoch 96/100\n",
      "333/333 [==============================] - 0s 251us/step - loss: 1.6655 - accuracy: 0.8979 - val_loss: 0.1897 - val_accuracy: 1.0000\n",
      "Epoch 97/100\n",
      "333/333 [==============================] - 0s 183us/step - loss: 1.2946 - accuracy: 0.9219 - val_loss: 0.1880 - val_accuracy: 1.0000\n",
      "Epoch 98/100\n",
      "333/333 [==============================] - 0s 160us/step - loss: 1.6200 - accuracy: 0.9009 - val_loss: 0.1816 - val_accuracy: 1.0000\n",
      "Epoch 99/100\n",
      "333/333 [==============================] - 0s 190us/step - loss: 1.7125 - accuracy: 0.8949 - val_loss: 0.1892 - val_accuracy: 1.0000\n",
      "Epoch 100/100\n",
      "333/333 [==============================] - 0s 144us/step - loss: 1.7563 - accuracy: 0.8919 - val_loss: 0.1902 - val_accuracy: 1.0000\n"
     ]
    },
    {
     "data": {
      "text/plain": [
       "<keras.callbacks.callbacks.History at 0x1a42773f60>"
      ]
     },
     "execution_count": 20,
     "metadata": {},
     "output_type": "execute_result"
    }
   ],
   "source": [
    "model1_comb.fit(X_train_comb, y_train_comb,\n",
    "          batch_size=32, epochs=100,\n",
    "          validation_data=(X_test_comb, y_test_comb))"
   ]
  },
  {
   "cell_type": "code",
   "execution_count": 21,
   "metadata": {},
   "outputs": [
    {
     "name": "stdout",
     "output_type": "stream",
     "text": [
      "143/143 [==============================] - 0s 87us/step\n",
      "combination test accuracy: 100.00%\n"
     ]
    }
   ],
   "source": [
    "acc_test_comb = model1_comb.evaluate(X_test_comb, y_test_comb)[1]\n",
    "print('combination test accuracy: %.2f%%' % (acc_test_comb*100))"
   ]
  },
  {
   "cell_type": "code",
   "execution_count": 22,
   "metadata": {},
   "outputs": [],
   "source": [
    "###### neural network on over-sampling data\n",
    "model1_over = Sequential([\n",
    "    Dense(32, activation='relu', input_shape=(X_train_over.shape[1],), activity_regularizer=l1(0.001)),\n",
    "    Dense(1, activation='sigmoid'),\n",
    "    Dropout(0.2, ),\n",
    "])"
   ]
  },
  {
   "cell_type": "code",
   "execution_count": 23,
   "metadata": {},
   "outputs": [],
   "source": [
    "model1_over.compile(optimizer='sgd',\n",
    "              loss='binary_crossentropy',\n",
    "              metrics=['accuracy'])"
   ]
  },
  {
   "cell_type": "code",
   "execution_count": 24,
   "metadata": {},
   "outputs": [
    {
     "name": "stdout",
     "output_type": "stream",
     "text": [
      "Train on 341 samples, validate on 147 samples\n",
      "Epoch 1/100\n",
      "341/341 [==============================] - 0s 640us/step - loss: 2.5008 - accuracy: 0.6188 - val_loss: 0.6546 - val_accuracy: 0.7619\n",
      "Epoch 2/100\n",
      "341/341 [==============================] - 0s 122us/step - loss: 1.9459 - accuracy: 0.7126 - val_loss: 0.6206 - val_accuracy: 0.7755\n",
      "Epoch 3/100\n",
      "341/341 [==============================] - 0s 127us/step - loss: 2.1338 - accuracy: 0.7009 - val_loss: 0.6132 - val_accuracy: 0.7755\n",
      "Epoch 4/100\n",
      "341/341 [==============================] - 0s 126us/step - loss: 2.3887 - accuracy: 0.7097 - val_loss: 0.6141 - val_accuracy: 0.7755\n",
      "Epoch 5/100\n",
      "341/341 [==============================] - 0s 127us/step - loss: 1.9817 - accuracy: 0.7507 - val_loss: 0.5801 - val_accuracy: 0.7619\n",
      "Epoch 6/100\n",
      "341/341 [==============================] - 0s 160us/step - loss: 1.4946 - accuracy: 0.7947 - val_loss: 0.5751 - val_accuracy: 0.7619\n",
      "Epoch 7/100\n",
      "341/341 [==============================] - 0s 126us/step - loss: 1.9504 - accuracy: 0.8123 - val_loss: 0.5393 - val_accuracy: 0.9184\n",
      "Epoch 8/100\n",
      "341/341 [==============================] - 0s 127us/step - loss: 2.1852 - accuracy: 0.7947 - val_loss: 0.5292 - val_accuracy: 0.8435\n",
      "Epoch 9/100\n",
      "341/341 [==============================] - 0s 134us/step - loss: 1.9242 - accuracy: 0.8182 - val_loss: 0.5213 - val_accuracy: 0.8571\n",
      "Epoch 10/100\n",
      "341/341 [==============================] - ETA: 0s - loss: 2.7869 - accuracy: 0.81 - 0s 152us/step - loss: 2.2182 - accuracy: 0.8123 - val_loss: 0.5122 - val_accuracy: 0.8503\n",
      "Epoch 11/100\n",
      "341/341 [==============================] - 0s 167us/step - loss: 2.2549 - accuracy: 0.8123 - val_loss: 0.5134 - val_accuracy: 0.8027\n",
      "Epoch 12/100\n",
      "341/341 [==============================] - 0s 166us/step - loss: 2.0399 - accuracy: 0.8065 - val_loss: 0.4934 - val_accuracy: 0.9320\n",
      "Epoch 13/100\n",
      "341/341 [==============================] - 0s 180us/step - loss: 2.2944 - accuracy: 0.8123 - val_loss: 0.4791 - val_accuracy: 0.9252\n",
      "Epoch 14/100\n",
      "341/341 [==============================] - 0s 785us/step - loss: 2.2329 - accuracy: 0.8182 - val_loss: 0.5016 - val_accuracy: 0.8571\n",
      "Epoch 15/100\n",
      "341/341 [==============================] - 0s 143us/step - loss: 1.6649 - accuracy: 0.8416 - val_loss: 0.4755 - val_accuracy: 0.9388\n",
      "Epoch 16/100\n",
      "341/341 [==============================] - 0s 128us/step - loss: 2.1200 - accuracy: 0.8123 - val_loss: 0.4792 - val_accuracy: 0.9320\n",
      "Epoch 17/100\n",
      "341/341 [==============================] - 0s 124us/step - loss: 1.6852 - accuracy: 0.8475 - val_loss: 0.4527 - val_accuracy: 0.9388\n",
      "Epoch 18/100\n",
      "341/341 [==============================] - 0s 133us/step - loss: 2.0358 - accuracy: 0.8123 - val_loss: 0.4432 - val_accuracy: 0.9388\n",
      "Epoch 19/100\n",
      "341/341 [==============================] - 0s 126us/step - loss: 1.7157 - accuracy: 0.8328 - val_loss: 0.4350 - val_accuracy: 0.9320\n",
      "Epoch 20/100\n",
      "341/341 [==============================] - 0s 129us/step - loss: 1.6045 - accuracy: 0.8680 - val_loss: 0.4700 - val_accuracy: 0.8912\n",
      "Epoch 21/100\n",
      "341/341 [==============================] - 0s 165us/step - loss: 1.4763 - accuracy: 0.8768 - val_loss: 0.4189 - val_accuracy: 0.9388\n",
      "Epoch 22/100\n",
      "341/341 [==============================] - 0s 244us/step - loss: 2.1493 - accuracy: 0.8182 - val_loss: 0.4123 - val_accuracy: 0.9388\n",
      "Epoch 23/100\n",
      "341/341 [==============================] - 0s 387us/step - loss: 1.6871 - accuracy: 0.8534 - val_loss: 0.4110 - val_accuracy: 0.9320\n",
      "Epoch 24/100\n",
      "341/341 [==============================] - 0s 136us/step - loss: 1.8148 - accuracy: 0.8504 - val_loss: 0.4418 - val_accuracy: 0.8912\n",
      "Epoch 25/100\n",
      "341/341 [==============================] - 0s 140us/step - loss: 1.6807 - accuracy: 0.8710 - val_loss: 0.4261 - val_accuracy: 0.9456\n",
      "Epoch 26/100\n",
      "341/341 [==============================] - 0s 147us/step - loss: 1.5839 - accuracy: 0.8710 - val_loss: 0.4003 - val_accuracy: 0.9796\n",
      "Epoch 27/100\n",
      "341/341 [==============================] - 0s 130us/step - loss: 1.6144 - accuracy: 0.8827 - val_loss: 0.3896 - val_accuracy: 0.9456\n",
      "Epoch 28/100\n",
      "341/341 [==============================] - 0s 138us/step - loss: 1.9826 - accuracy: 0.8504 - val_loss: 0.4213 - val_accuracy: 0.8912\n",
      "Epoch 29/100\n",
      "341/341 [==============================] - 0s 152us/step - loss: 1.5356 - accuracy: 0.8768 - val_loss: 0.4274 - val_accuracy: 0.9864\n",
      "Epoch 30/100\n",
      "341/341 [==============================] - 0s 140us/step - loss: 1.7604 - accuracy: 0.8622 - val_loss: 0.3835 - val_accuracy: 0.9456\n",
      "Epoch 31/100\n",
      "341/341 [==============================] - 0s 168us/step - loss: 1.4411 - accuracy: 0.8886 - val_loss: 0.3895 - val_accuracy: 0.9456\n",
      "Epoch 32/100\n",
      "341/341 [==============================] - 0s 127us/step - loss: 1.8266 - accuracy: 0.8739 - val_loss: 0.3665 - val_accuracy: 0.9456\n",
      "Epoch 33/100\n",
      "341/341 [==============================] - 0s 143us/step - loss: 2.0416 - accuracy: 0.8592 - val_loss: 0.3611 - val_accuracy: 0.9456\n",
      "Epoch 34/100\n",
      "341/341 [==============================] - 0s 136us/step - loss: 1.7905 - accuracy: 0.8710 - val_loss: 0.3690 - val_accuracy: 0.9456\n",
      "Epoch 35/100\n",
      "341/341 [==============================] - 0s 123us/step - loss: 2.1399 - accuracy: 0.8416 - val_loss: 0.3543 - val_accuracy: 0.9456\n",
      "Epoch 36/100\n",
      "341/341 [==============================] - 0s 148us/step - loss: 1.6769 - accuracy: 0.8856 - val_loss: 0.3535 - val_accuracy: 0.9864\n",
      "Epoch 37/100\n",
      "341/341 [==============================] - 0s 162us/step - loss: 1.9470 - accuracy: 0.8739 - val_loss: 0.3510 - val_accuracy: 0.9388\n",
      "Epoch 38/100\n",
      "341/341 [==============================] - 0s 188us/step - loss: 1.8130 - accuracy: 0.8768 - val_loss: 0.3546 - val_accuracy: 0.9932\n",
      "Epoch 39/100\n",
      "341/341 [==============================] - 0s 138us/step - loss: 1.8615 - accuracy: 0.8768 - val_loss: 0.3440 - val_accuracy: 0.9932\n",
      "Epoch 40/100\n",
      "341/341 [==============================] - 0s 146us/step - loss: 2.0214 - accuracy: 0.8710 - val_loss: 0.3344 - val_accuracy: 0.9864\n",
      "Epoch 41/100\n",
      "341/341 [==============================] - 0s 532us/step - loss: 1.8802 - accuracy: 0.8768 - val_loss: 0.3385 - val_accuracy: 0.9456\n",
      "Epoch 42/100\n",
      "341/341 [==============================] - 0s 186us/step - loss: 1.8906 - accuracy: 0.8739 - val_loss: 0.3641 - val_accuracy: 0.9864\n",
      "Epoch 43/100\n",
      "341/341 [==============================] - 0s 882us/step - loss: 2.1066 - accuracy: 0.8563 - val_loss: 0.3342 - val_accuracy: 0.9864\n",
      "Epoch 44/100\n",
      "341/341 [==============================] - 0s 430us/step - loss: 1.5214 - accuracy: 0.9032 - val_loss: 0.3423 - val_accuracy: 0.9456\n",
      "Epoch 45/100\n",
      "341/341 [==============================] - 0s 189us/step - loss: 1.7025 - accuracy: 0.8886 - val_loss: 0.3200 - val_accuracy: 0.9864\n",
      "Epoch 46/100\n",
      "341/341 [==============================] - 0s 166us/step - loss: 1.6115 - accuracy: 0.8886 - val_loss: 0.3315 - val_accuracy: 0.9932\n",
      "Epoch 47/100\n",
      "341/341 [==============================] - 0s 146us/step - loss: 1.8407 - accuracy: 0.8739 - val_loss: 0.3191 - val_accuracy: 0.9932\n",
      "Epoch 48/100\n",
      "341/341 [==============================] - 0s 143us/step - loss: 1.7347 - accuracy: 0.8886 - val_loss: 0.3226 - val_accuracy: 0.9864\n",
      "Epoch 49/100\n",
      "341/341 [==============================] - 0s 174us/step - loss: 1.7417 - accuracy: 0.8827 - val_loss: 0.3757 - val_accuracy: 0.8299\n",
      "Epoch 50/100\n",
      "341/341 [==============================] - 0s 467us/step - loss: 1.6061 - accuracy: 0.8944 - val_loss: 0.3404 - val_accuracy: 0.9524\n",
      "Epoch 51/100\n",
      "341/341 [==============================] - 0s 442us/step - loss: 1.7369 - accuracy: 0.8827 - val_loss: 0.3305 - val_accuracy: 0.9932\n",
      "Epoch 52/100\n",
      "341/341 [==============================] - 0s 354us/step - loss: 2.1461 - accuracy: 0.8563 - val_loss: 0.3032 - val_accuracy: 0.9864\n",
      "Epoch 53/100\n",
      "341/341 [==============================] - 0s 139us/step - loss: 1.4974 - accuracy: 0.9062 - val_loss: 0.3000 - val_accuracy: 0.9864\n",
      "Epoch 54/100\n",
      "341/341 [==============================] - 0s 116us/step - loss: 1.8078 - accuracy: 0.8856 - val_loss: 0.2970 - val_accuracy: 0.9864\n",
      "Epoch 55/100\n",
      "341/341 [==============================] - 0s 161us/step - loss: 1.5475 - accuracy: 0.9003 - val_loss: 0.2960 - val_accuracy: 0.9864\n",
      "Epoch 56/100\n"
     ]
    },
    {
     "name": "stdout",
     "output_type": "stream",
     "text": [
      "341/341 [==============================] - 0s 154us/step - loss: 1.7729 - accuracy: 0.8886 - val_loss: 0.3049 - val_accuracy: 0.9932\n",
      "Epoch 57/100\n",
      "341/341 [==============================] - 0s 125us/step - loss: 1.8177 - accuracy: 0.8768 - val_loss: 0.3636 - val_accuracy: 0.8844\n",
      "Epoch 58/100\n",
      "341/341 [==============================] - 0s 136us/step - loss: 1.6396 - accuracy: 0.8944 - val_loss: 0.2977 - val_accuracy: 0.9932\n",
      "Epoch 59/100\n",
      "341/341 [==============================] - 0s 118us/step - loss: 1.8126 - accuracy: 0.8798 - val_loss: 0.3020 - val_accuracy: 0.9932\n",
      "Epoch 60/100\n",
      "341/341 [==============================] - 0s 109us/step - loss: 1.8629 - accuracy: 0.8739 - val_loss: 0.3085 - val_accuracy: 1.0000\n",
      "Epoch 61/100\n",
      "341/341 [==============================] - 0s 106us/step - loss: 1.5919 - accuracy: 0.8944 - val_loss: 0.3021 - val_accuracy: 0.9932\n",
      "Epoch 62/100\n",
      "341/341 [==============================] - 0s 286us/step - loss: 1.3654 - accuracy: 0.9091 - val_loss: 0.3170 - val_accuracy: 0.9932\n",
      "Epoch 63/100\n",
      "341/341 [==============================] - 0s 743us/step - loss: 1.8953 - accuracy: 0.8798 - val_loss: 0.2887 - val_accuracy: 0.9864\n",
      "Epoch 64/100\n",
      "341/341 [==============================] - 0s 179us/step - loss: 2.1209 - accuracy: 0.8592 - val_loss: 0.2936 - val_accuracy: 0.9932\n",
      "Epoch 65/100\n",
      "341/341 [==============================] - 0s 235us/step - loss: 2.2252 - accuracy: 0.8504 - val_loss: 0.3054 - val_accuracy: 0.9864\n",
      "Epoch 66/100\n",
      "341/341 [==============================] - 0s 229us/step - loss: 1.6732 - accuracy: 0.8915 - val_loss: 0.2792 - val_accuracy: 0.9932\n",
      "Epoch 67/100\n",
      "341/341 [==============================] - 0s 141us/step - loss: 1.6229 - accuracy: 0.8915 - val_loss: 0.2778 - val_accuracy: 0.9864\n",
      "Epoch 68/100\n",
      "341/341 [==============================] - 0s 115us/step - loss: 1.9348 - accuracy: 0.8710 - val_loss: 0.2775 - val_accuracy: 0.9864\n",
      "Epoch 69/100\n",
      "341/341 [==============================] - 0s 142us/step - loss: 1.6678 - accuracy: 0.8886 - val_loss: 0.2793 - val_accuracy: 0.9932\n",
      "Epoch 70/100\n",
      "341/341 [==============================] - 0s 107us/step - loss: 1.9770 - accuracy: 0.8680 - val_loss: 0.2823 - val_accuracy: 0.9932\n",
      "Epoch 71/100\n",
      "341/341 [==============================] - 0s 119us/step - loss: 1.7124 - accuracy: 0.8651 - val_loss: 0.2783 - val_accuracy: 0.9932\n",
      "Epoch 72/100\n",
      "341/341 [==============================] - 0s 164us/step - loss: 2.0627 - accuracy: 0.8651 - val_loss: 0.2740 - val_accuracy: 0.9932\n",
      "Epoch 73/100\n",
      "341/341 [==============================] - 0s 142us/step - loss: 1.3899 - accuracy: 0.9062 - val_loss: 0.3696 - val_accuracy: 0.8844\n",
      "Epoch 74/100\n",
      "341/341 [==============================] - 0s 135us/step - loss: 1.6650 - accuracy: 0.8944 - val_loss: 0.2793 - val_accuracy: 0.9932\n",
      "Epoch 75/100\n",
      "341/341 [==============================] - 0s 491us/step - loss: 1.5797 - accuracy: 0.8974 - val_loss: 0.2871 - val_accuracy: 0.9932\n",
      "Epoch 76/100\n",
      "341/341 [==============================] - 0s 245us/step - loss: 1.2518 - accuracy: 0.9150 - val_loss: 0.2897 - val_accuracy: 0.9932\n",
      "Epoch 77/100\n",
      "341/341 [==============================] - 0s 122us/step - loss: 1.7908 - accuracy: 0.8827 - val_loss: 0.2675 - val_accuracy: 0.9932\n",
      "Epoch 78/100\n",
      "341/341 [==============================] - 0s 122us/step - loss: 1.6607 - accuracy: 0.8886 - val_loss: 0.3039 - val_accuracy: 0.9320\n",
      "Epoch 79/100\n",
      "341/341 [==============================] - 0s 137us/step - loss: 1.3437 - accuracy: 0.9120 - val_loss: 0.2721 - val_accuracy: 0.9932\n",
      "Epoch 80/100\n",
      "341/341 [==============================] - 0s 127us/step - loss: 1.6362 - accuracy: 0.8974 - val_loss: 0.2711 - val_accuracy: 0.9932\n",
      "Epoch 81/100\n",
      "341/341 [==============================] - 0s 122us/step - loss: 1.8501 - accuracy: 0.8739 - val_loss: 0.3003 - val_accuracy: 0.9932\n",
      "Epoch 82/100\n",
      "341/341 [==============================] - 0s 125us/step - loss: 1.4412 - accuracy: 0.8974 - val_loss: 0.2677 - val_accuracy: 0.9932\n",
      "Epoch 83/100\n",
      "341/341 [==============================] - 0s 162us/step - loss: 2.2859 - accuracy: 0.8475 - val_loss: 0.3719 - val_accuracy: 0.8299\n",
      "Epoch 84/100\n",
      "341/341 [==============================] - 0s 133us/step - loss: 1.7921 - accuracy: 0.8827 - val_loss: 0.2649 - val_accuracy: 0.9932\n",
      "Epoch 85/100\n",
      "341/341 [==============================] - 0s 131us/step - loss: 1.3870 - accuracy: 0.9032 - val_loss: 0.2696 - val_accuracy: 0.9932\n",
      "Epoch 86/100\n",
      "341/341 [==============================] - 0s 128us/step - loss: 2.0689 - accuracy: 0.8651 - val_loss: 0.2728 - val_accuracy: 0.9932\n",
      "Epoch 87/100\n",
      "341/341 [==============================] - 0s 139us/step - loss: 1.9146 - accuracy: 0.8768 - val_loss: 0.2670 - val_accuracy: 0.9932\n",
      "Epoch 88/100\n",
      "341/341 [==============================] - 0s 112us/step - loss: 1.8668 - accuracy: 0.8768 - val_loss: 0.2587 - val_accuracy: 0.9932\n",
      "Epoch 89/100\n",
      "341/341 [==============================] - 0s 104us/step - loss: 1.2858 - accuracy: 0.9179 - val_loss: 0.2785 - val_accuracy: 1.0000\n",
      "Epoch 90/100\n",
      "341/341 [==============================] - 0s 129us/step - loss: 1.8794 - accuracy: 0.8768 - val_loss: 0.2603 - val_accuracy: 1.0000\n",
      "Epoch 91/100\n",
      "341/341 [==============================] - 0s 108us/step - loss: 1.2914 - accuracy: 0.9179 - val_loss: 0.2709 - val_accuracy: 0.9932\n",
      "Epoch 92/100\n",
      "341/341 [==============================] - 0s 128us/step - loss: 1.7775 - accuracy: 0.8856 - val_loss: 0.2811 - val_accuracy: 1.0000\n",
      "Epoch 93/100\n",
      "341/341 [==============================] - 0s 810us/step - loss: 1.8725 - accuracy: 0.8739 - val_loss: 0.2923 - val_accuracy: 1.0000\n",
      "Epoch 94/100\n",
      "341/341 [==============================] - 0s 297us/step - loss: 1.8655 - accuracy: 0.8798 - val_loss: 0.2509 - val_accuracy: 0.9932\n",
      "Epoch 95/100\n",
      "341/341 [==============================] - 0s 147us/step - loss: 1.6000 - accuracy: 0.8944 - val_loss: 0.2468 - val_accuracy: 0.9932\n",
      "Epoch 96/100\n",
      "341/341 [==============================] - 0s 149us/step - loss: 1.4985 - accuracy: 0.9032 - val_loss: 0.2508 - val_accuracy: 0.9932\n",
      "Epoch 97/100\n",
      "341/341 [==============================] - 0s 138us/step - loss: 1.9185 - accuracy: 0.8123 - val_loss: 0.3777 - val_accuracy: 0.8912\n",
      "Epoch 98/100\n",
      "341/341 [==============================] - 0s 250us/step - loss: 1.6357 - accuracy: 0.9003 - val_loss: 0.3561 - val_accuracy: 1.0000\n",
      "Epoch 99/100\n",
      "341/341 [==============================] - 0s 151us/step - loss: 1.5834 - accuracy: 0.9062 - val_loss: 0.3540 - val_accuracy: 0.9932\n",
      "Epoch 100/100\n",
      "341/341 [==============================] - 0s 158us/step - loss: 1.8939 - accuracy: 0.8798 - val_loss: 0.3457 - val_accuracy: 0.9932\n"
     ]
    },
    {
     "data": {
      "text/plain": [
       "<keras.callbacks.callbacks.History at 0x1a3f0d0c50>"
      ]
     },
     "execution_count": 24,
     "metadata": {},
     "output_type": "execute_result"
    }
   ],
   "source": [
    "model1_over.fit(X_train_over, y_train_over,\n",
    "          batch_size=32, epochs=100,\n",
    "          validation_data=(X_test_over, y_test_over))"
   ]
  },
  {
   "cell_type": "code",
   "execution_count": 25,
   "metadata": {},
   "outputs": [
    {
     "name": "stdout",
     "output_type": "stream",
     "text": [
      "147/147 [==============================] - 0s 109us/step\n",
      "over-sampling test accuracy: 99.32%\n"
     ]
    }
   ],
   "source": [
    "acc_test_over = model1_over.evaluate(X_test_over, y_test_over)[1]\n",
    "print('over-sampling test accuracy: %.2f%%' % (acc_test_over*100))"
   ]
  },
  {
   "cell_type": "code",
   "execution_count": null,
   "metadata": {},
   "outputs": [],
   "source": []
  },
  {
   "cell_type": "code",
   "execution_count": null,
   "metadata": {},
   "outputs": [],
   "source": [
    "############ Logistic Regression ############"
   ]
  },
  {
   "cell_type": "code",
   "execution_count": 90,
   "metadata": {},
   "outputs": [],
   "source": [
    "from sklearn.linear_model import LogisticRegression\n",
    "from sklearn import metrics"
   ]
  },
  {
   "cell_type": "code",
   "execution_count": 91,
   "metadata": {},
   "outputs": [
    {
     "name": "stderr",
     "output_type": "stream",
     "text": [
      "/Users/Rebecca/anaconda3/lib/python3.7/site-packages/sklearn/linear_model/logistic.py:432: FutureWarning: Default solver will be changed to 'lbfgs' in 0.22. Specify a solver to silence this warning.\n",
      "  FutureWarning)\n"
     ]
    },
    {
     "data": {
      "text/plain": [
       "LogisticRegression(C=1.0, class_weight=None, dual=False, fit_intercept=True,\n",
       "                   intercept_scaling=1, l1_ratio=None, max_iter=100,\n",
       "                   multi_class='warn', n_jobs=None, penalty='l2',\n",
       "                   random_state=None, solver='warn', tol=0.0001, verbose=0,\n",
       "                   warm_start=False)"
      ]
     },
     "execution_count": 91,
     "metadata": {},
     "output_type": "execute_result"
    }
   ],
   "source": [
    "###### logistics on combination data\n",
    "log_comb = LogisticRegression()\n",
    "log_comb.fit(X_train_comb, y_train_comb)"
   ]
  },
  {
   "cell_type": "code",
   "execution_count": 99,
   "metadata": {},
   "outputs": [
    {
     "name": "stdout",
     "output_type": "stream",
     "text": [
      "combination logistic test accuracy 99.30%\n"
     ]
    }
   ],
   "source": [
    "y_pred_comb = log_comb.predict(X_test_comb)\n",
    "print('combination logistic test accuracy %.2f%%' % (log_comb.score(X_test_comb, y_test_comb)*100))"
   ]
  },
  {
   "cell_type": "code",
   "execution_count": 96,
   "metadata": {},
   "outputs": [
    {
     "name": "stderr",
     "output_type": "stream",
     "text": [
      "/Users/Rebecca/anaconda3/lib/python3.7/site-packages/sklearn/linear_model/logistic.py:432: FutureWarning: Default solver will be changed to 'lbfgs' in 0.22. Specify a solver to silence this warning.\n",
      "  FutureWarning)\n"
     ]
    },
    {
     "data": {
      "text/plain": [
       "LogisticRegression(C=1.0, class_weight=None, dual=False, fit_intercept=True,\n",
       "                   intercept_scaling=1, l1_ratio=None, max_iter=100,\n",
       "                   multi_class='warn', n_jobs=None, penalty='l2',\n",
       "                   random_state=None, solver='warn', tol=0.0001, verbose=0,\n",
       "                   warm_start=False)"
      ]
     },
     "execution_count": 96,
     "metadata": {},
     "output_type": "execute_result"
    }
   ],
   "source": [
    "##### logistics on over-sampling data\n",
    "log_over = LogisticRegression()\n",
    "log_over.fit(X_train_over, y_train_over)"
   ]
  },
  {
   "cell_type": "code",
   "execution_count": 98,
   "metadata": {},
   "outputs": [
    {
     "name": "stdout",
     "output_type": "stream",
     "text": [
      "over-sampling logistic test accuracy 100.00%\n"
     ]
    }
   ],
   "source": [
    "y_pred_over = log_over.predict(X_test_over)\n",
    "print('over-sampling logistic test accuracy %.2f%%' % (log_over.score(X_test_over, y_test_over)*100))"
   ]
  },
  {
   "cell_type": "code",
   "execution_count": null,
   "metadata": {},
   "outputs": [],
   "source": []
  },
  {
   "cell_type": "code",
   "execution_count": 100,
   "metadata": {},
   "outputs": [
    {
     "name": "stdout",
     "output_type": "stream",
     "text": [
      "[1.        1.        0.9787234 1.        1.       ]\n",
      "0.9957446808510639\n",
      "0.008510638297872353\n"
     ]
    }
   ],
   "source": [
    "############## Random Forest ##############"
   ]
  },
  {
   "cell_type": "code",
   "execution_count": 104,
   "metadata": {},
   "outputs": [],
   "source": [
    "###### random forest on combination data\n",
    "from sklearn.ensemble import RandomForestClassifier\n",
    "\n",
    "rf_comb = RandomForestClassifier(n_estimators=100)\n",
    "rf_comb.fit(X_train_comb,y_train_comb)\n"
   ]
  },
  {
   "cell_type": "code",
   "execution_count": 112,
   "metadata": {},
   "outputs": [
    {
     "name": "stdout",
     "output_type": "stream",
     "text": [
      "combination test accuracy: 99.30%\n"
     ]
    }
   ],
   "source": [
    "from sklearn.metrics import accuracy_score\n",
    "y_pred_comb = rf_comb.predict(X_test_comb)\n",
    "print('combination test accuracy: %.2f%%' % (accuracy_score(y_test_comb, y_pred_comb)*100))"
   ]
  },
  {
   "cell_type": "code",
   "execution_count": 113,
   "metadata": {},
   "outputs": [
    {
     "data": {
      "text/plain": [
       "RandomForestClassifier(bootstrap=True, class_weight=None, criterion='gini',\n",
       "                       max_depth=None, max_features='auto', max_leaf_nodes=None,\n",
       "                       min_impurity_decrease=0.0, min_impurity_split=None,\n",
       "                       min_samples_leaf=1, min_samples_split=2,\n",
       "                       min_weight_fraction_leaf=0.0, n_estimators=100,\n",
       "                       n_jobs=None, oob_score=False, random_state=None,\n",
       "                       verbose=0, warm_start=False)"
      ]
     },
     "execution_count": 113,
     "metadata": {},
     "output_type": "execute_result"
    }
   ],
   "source": [
    "###### random forest on over-sampling data\n",
    "from sklearn.ensemble import RandomForestClassifier\n",
    "\n",
    "rf_over = RandomForestClassifier(n_estimators=100)\n",
    "rf_over.fit(X_train_over,y_train_over)"
   ]
  },
  {
   "cell_type": "code",
   "execution_count": 114,
   "metadata": {},
   "outputs": [
    {
     "name": "stdout",
     "output_type": "stream",
     "text": [
      "combination test accuracy: 100.00%\n"
     ]
    }
   ],
   "source": [
    "from sklearn.metrics import accuracy_score\n",
    "y_pred_over = rf_over.predict(X_test_over)\n",
    "print('over-sampling test accuracy: %.2f%%' % (accuracy_score(y_test_over, y_pred_over)*100))"
   ]
  },
  {
   "cell_type": "code",
   "execution_count": null,
   "metadata": {},
   "outputs": [],
   "source": [
    "#### Random forest with cross-validation\n",
    "## Retrieved from https://stackabuse.com/cross-validation-and-grid-search-for-model-selection-in-python/"
   ]
  },
  {
   "cell_type": "code",
   "execution_count": 116,
   "metadata": {},
   "outputs": [
    {
     "name": "stdout",
     "output_type": "stream",
     "text": [
      "[1.        1.        0.9787234 1.        1.       ]\n",
      "0.9957446808510639\n"
     ]
    }
   ],
   "source": [
    "## random forest model with CV on combination data\n",
    "from sklearn.ensemble import RandomForestClassifier\n",
    "from sklearn.model_selection import cross_val_score\n",
    "\n",
    "rfcv_comb = RandomForestClassifier(n_estimators=100, random_state=123)\n",
    "\n",
    "accs_comb = cross_val_score(estimator=rfcv_comb, X=X_train_comb, y=y_train_comb, cv=5)\n",
    "print(accs_comb)\n",
    "print(accs_comb.mean())"
   ]
  },
  {
   "cell_type": "code",
   "execution_count": 117,
   "metadata": {},
   "outputs": [
    {
     "name": "stdout",
     "output_type": "stream",
     "text": [
      "[0.97916667 1.         0.97916667 0.97916667 0.93478261]\n",
      "0.9744565217391303\n"
     ]
    }
   ],
   "source": [
    "## random forest model with CV on over-sampling data\n",
    "from sklearn.ensemble import RandomForestClassifier\n",
    "from sklearn.model_selection import cross_val_score\n",
    "\n",
    "rfcv_over = RandomForestClassifier(n_estimators=100, random_state=123)\n",
    "\n",
    "accs_over = cross_val_score(estimator=rfcv_over, X=X_train_over, y=y_train_over, cv=5)\n",
    "print(accs_over)\n",
    "print(accs_over.mean())"
   ]
  },
  {
   "cell_type": "code",
   "execution_count": null,
   "metadata": {},
   "outputs": [],
   "source": []
  }
 ],
 "metadata": {
  "kernelspec": {
   "display_name": "Python 3",
   "language": "python",
   "name": "python3"
  },
  "language_info": {
   "codemirror_mode": {
    "name": "ipython",
    "version": 3
   },
   "file_extension": ".py",
   "mimetype": "text/x-python",
   "name": "python",
   "nbconvert_exporter": "python",
   "pygments_lexer": "ipython3",
   "version": "3.7.3"
  }
 },
 "nbformat": 4,
 "nbformat_minor": 2
}
