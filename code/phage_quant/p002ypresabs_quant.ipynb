{
 "cells": [
  {
   "cell_type": "code",
   "execution_count": null,
   "metadata": {},
   "outputs": [],
   "source": [
    "## This file implements neural networks of p002ypresabs_quant\n",
    "## The first method is standard neural network. The accuracy is 96.10%\n",
    "## The second method includes cross-validation with standardized dataset. The accuracy is 96.06%\n",
    "## The third method is logistic regression using the nn.Module API. The accuracy is 96.10%"
   ]
  },
  {
   "cell_type": "code",
   "execution_count": 58,
   "metadata": {},
   "outputs": [
    {
     "data": {
      "text/plain": [
       "(255, 1759)"
      ]
     },
     "execution_count": 58,
     "metadata": {},
     "output_type": "execute_result"
    }
   ],
   "source": [
    "import pandas as pd\n",
    "\n",
    "df = pd.read_csv('/Users/Rebecca/Desktop/Claudia/neural network/phage_quant/p002ypresabs_quant.csv')\n",
    "df.shape"
   ]
  },
  {
   "cell_type": "code",
   "execution_count": 59,
   "metadata": {},
   "outputs": [],
   "source": [
    "df.rename(columns={'Unnamed: 0':'id'}, inplace=True)"
   ]
  },
  {
   "cell_type": "code",
   "execution_count": 60,
   "metadata": {},
   "outputs": [
    {
     "data": {
      "text/plain": [
       "0      0.194875\n",
       "1      0.265250\n",
       "2      0.440625\n",
       "3      0.175500\n",
       "4      0.173625\n",
       "5      0.270375\n",
       "6      0.171000\n",
       "7      0.182500\n",
       "8      0.278875\n",
       "9      0.174375\n",
       "10     0.176250\n",
       "11     0.411125\n",
       "12     0.178250\n",
       "13     0.191500\n",
       "14     0.164875\n",
       "15     0.181875\n",
       "16     0.394125\n",
       "17     0.364875\n",
       "18     0.409875\n",
       "19     0.191875\n",
       "20     0.236125\n",
       "21     0.277000\n",
       "22     0.169875\n",
       "23     0.171625\n",
       "24     0.523625\n",
       "25     0.169500\n",
       "26     0.381000\n",
       "27     0.170000\n",
       "28     0.160750\n",
       "29     0.389750\n",
       "         ...   \n",
       "225    0.230500\n",
       "226    0.279800\n",
       "227    0.319500\n",
       "228    0.424100\n",
       "229    0.460500\n",
       "230    0.304750\n",
       "231    0.193875\n",
       "232    0.243000\n",
       "233    0.195750\n",
       "234    0.184750\n",
       "235    0.329125\n",
       "236    0.160000\n",
       "237    0.157500\n",
       "238    0.176375\n",
       "239    0.326750\n",
       "240    0.355750\n",
       "241    0.281375\n",
       "242    0.181875\n",
       "243    0.174125\n",
       "244    0.359250\n",
       "245    0.161375\n",
       "246    0.185875\n",
       "247    0.172750\n",
       "248    0.167750\n",
       "249    0.179875\n",
       "250    0.365375\n",
       "251    0.223500\n",
       "252    0.170750\n",
       "253    0.261125\n",
       "254    0.231000\n",
       "Name: pheno, Length: 255, dtype: float64"
      ]
     },
     "execution_count": 60,
     "metadata": {},
     "output_type": "execute_result"
    }
   ],
   "source": [
    "df['pheno']"
   ]
  },
  {
   "cell_type": "code",
   "execution_count": 61,
   "metadata": {},
   "outputs": [],
   "source": [
    "if 0.5 in df['pheno']:\n",
    "    print: \"0.5 is in the list\""
   ]
  },
  {
   "cell_type": "code",
   "execution_count": 62,
   "metadata": {},
   "outputs": [],
   "source": [
    "df['pheno'] = [1 if i>0.5 else 0 for i in df['pheno']] # convert pheno into binary"
   ]
  },
  {
   "cell_type": "code",
   "execution_count": 63,
   "metadata": {},
   "outputs": [
    {
     "data": {
      "text/plain": [
       "0      0\n",
       "1      0\n",
       "2      0\n",
       "3      0\n",
       "4      0\n",
       "5      0\n",
       "6      0\n",
       "7      0\n",
       "8      0\n",
       "9      0\n",
       "10     0\n",
       "11     0\n",
       "12     0\n",
       "13     0\n",
       "14     0\n",
       "15     0\n",
       "16     0\n",
       "17     0\n",
       "18     0\n",
       "19     0\n",
       "20     0\n",
       "21     0\n",
       "22     0\n",
       "23     0\n",
       "24     1\n",
       "25     0\n",
       "26     0\n",
       "27     0\n",
       "28     0\n",
       "29     0\n",
       "      ..\n",
       "225    0\n",
       "226    0\n",
       "227    0\n",
       "228    0\n",
       "229    0\n",
       "230    0\n",
       "231    0\n",
       "232    0\n",
       "233    0\n",
       "234    0\n",
       "235    0\n",
       "236    0\n",
       "237    0\n",
       "238    0\n",
       "239    0\n",
       "240    0\n",
       "241    0\n",
       "242    0\n",
       "243    0\n",
       "244    0\n",
       "245    0\n",
       "246    0\n",
       "247    0\n",
       "248    0\n",
       "249    0\n",
       "250    0\n",
       "251    0\n",
       "252    0\n",
       "253    0\n",
       "254    0\n",
       "Name: pheno, Length: 255, dtype: int64"
      ]
     },
     "execution_count": 63,
     "metadata": {},
     "output_type": "execute_result"
    }
   ],
   "source": [
    "df['pheno']"
   ]
  },
  {
   "cell_type": "code",
   "execution_count": 64,
   "metadata": {},
   "outputs": [
    {
     "data": {
      "text/plain": [
       "(255, 1759)"
      ]
     },
     "execution_count": 64,
     "metadata": {},
     "output_type": "execute_result"
    }
   ],
   "source": [
    "df.shape"
   ]
  },
  {
   "cell_type": "code",
   "execution_count": 73,
   "metadata": {},
   "outputs": [],
   "source": [
    "df_clean = df.drop(columns=['id'])"
   ]
  },
  {
   "cell_type": "code",
   "execution_count": 74,
   "metadata": {},
   "outputs": [
    {
     "data": {
      "text/plain": [
       "(255, 1758)"
      ]
     },
     "execution_count": 74,
     "metadata": {},
     "output_type": "execute_result"
    }
   ],
   "source": [
    "df_clean.shape"
   ]
  },
  {
   "cell_type": "code",
   "execution_count": null,
   "metadata": {},
   "outputs": [],
   "source": []
  },
  {
   "cell_type": "code",
   "execution_count": 75,
   "metadata": {},
   "outputs": [
    {
     "name": "stdout",
     "output_type": "stream",
     "text": [
      "(255, 1757) (255,)\n"
     ]
    }
   ],
   "source": [
    "X = df_clean.loc[:, df_clean.columns != 'pheno'].values\n",
    "y = df_clean['pheno'].values\n",
    "print(X.shape, y.shape)"
   ]
  },
  {
   "cell_type": "code",
   "execution_count": 76,
   "metadata": {},
   "outputs": [],
   "source": [
    "# split into train, test data\n",
    "from sklearn.model_selection import train_test_split\n",
    "X_train, X_test, y_train, y_test = train_test_split(X, y,\n",
    "                                                    test_size = 0.3,\n",
    "                                                    random_state=123,\n",
    "                                                    stratify=y)"
   ]
  },
  {
   "cell_type": "code",
   "execution_count": 77,
   "metadata": {},
   "outputs": [
    {
     "name": "stdout",
     "output_type": "stream",
     "text": [
      "(178, 1757) (77, 1757) (178,) (77,)\n"
     ]
    }
   ],
   "source": [
    "print(X_train.shape, X_test.shape, y_train.shape, y_test.shape)"
   ]
  },
  {
   "cell_type": "code",
   "execution_count": 23,
   "metadata": {},
   "outputs": [
    {
     "name": "stdout",
     "output_type": "stream",
     "text": [
      "Collecting keras\n",
      "\u001b[?25l  Downloading https://files.pythonhosted.org/packages/ad/fd/6bfe87920d7f4fd475acd28500a42482b6b84479832bdc0fe9e589a60ceb/Keras-2.3.1-py2.py3-none-any.whl (377kB)\n",
      "\u001b[K    100% |████████████████████████████████| 378kB 5.8MB/s ta 0:00:01\n",
      "\u001b[?25hRequirement already satisfied: six>=1.9.0 in /Users/Rebecca/anaconda3/lib/python3.7/site-packages (from keras) (1.12.0)\n",
      "Requirement already satisfied: keras-preprocessing>=1.0.5 in /Users/Rebecca/anaconda3/lib/python3.7/site-packages (from keras) (1.1.0)\n",
      "Requirement already satisfied: h5py in /Users/Rebecca/anaconda3/lib/python3.7/site-packages (from keras) (2.9.0)\n",
      "Requirement already satisfied: scipy>=0.14 in /Users/Rebecca/anaconda3/lib/python3.7/site-packages (from keras) (1.2.1)\n",
      "Requirement already satisfied: numpy>=1.9.1 in /Users/Rebecca/anaconda3/lib/python3.7/site-packages (from keras) (1.16.2)\n",
      "Requirement already satisfied: pyyaml in /Users/Rebecca/anaconda3/lib/python3.7/site-packages (from keras) (5.1)\n",
      "Requirement already satisfied: keras-applications>=1.0.6 in /Users/Rebecca/anaconda3/lib/python3.7/site-packages (from keras) (1.0.8)\n",
      "Installing collected packages: keras\n",
      "Successfully installed keras-2.3.1\n",
      "Note: you may need to restart the kernel to use updated packages.\n"
     ]
    }
   ],
   "source": [
    "pip install keras"
   ]
  },
  {
   "cell_type": "code",
   "execution_count": null,
   "metadata": {},
   "outputs": [],
   "source": [
    "############# Method 1 ################"
   ]
  },
  {
   "cell_type": "code",
   "execution_count": 78,
   "metadata": {},
   "outputs": [],
   "source": [
    "from keras.models import Sequential\n",
    "from keras.layers import Dense"
   ]
  },
  {
   "cell_type": "code",
   "execution_count": 115,
   "metadata": {},
   "outputs": [],
   "source": [
    "model1 = Sequential([\n",
    "    Dense(32, activation='relu', input_shape=(1757,)),\n",
    "    Dense(32, activation='relu'),\n",
    "    Dense(1, activation='sigmoid'),\n",
    "])"
   ]
  },
  {
   "cell_type": "code",
   "execution_count": 116,
   "metadata": {},
   "outputs": [],
   "source": [
    "model1.compile(optimizer='sgd',\n",
    "              loss='binary_crossentropy',\n",
    "              metrics=['accuracy'])"
   ]
  },
  {
   "cell_type": "code",
   "execution_count": 121,
   "metadata": {},
   "outputs": [
    {
     "name": "stdout",
     "output_type": "stream",
     "text": [
      "Train on 178 samples, validate on 77 samples\n",
      "Epoch 1/100\n",
      "178/178 [==============================] - 0s 1ms/step - loss: 0.1083 - accuracy: 0.9663 - val_loss: 0.2055 - val_accuracy: 0.9610\n",
      "Epoch 2/100\n",
      "178/178 [==============================] - 0s 187us/step - loss: 0.1479 - accuracy: 0.9607 - val_loss: 0.1366 - val_accuracy: 0.9610\n",
      "Epoch 3/100\n",
      "178/178 [==============================] - 0s 192us/step - loss: 0.0970 - accuracy: 0.9663 - val_loss: 0.1369 - val_accuracy: 0.9610\n",
      "Epoch 4/100\n",
      "178/178 [==============================] - 0s 216us/step - loss: 0.0816 - accuracy: 0.9719 - val_loss: 0.1588 - val_accuracy: 0.9610\n",
      "Epoch 5/100\n",
      "178/178 [==============================] - 0s 186us/step - loss: 0.0858 - accuracy: 0.9663 - val_loss: 0.1752 - val_accuracy: 0.9610\n",
      "Epoch 6/100\n",
      "178/178 [==============================] - 0s 195us/step - loss: 0.0671 - accuracy: 0.9719 - val_loss: 0.1774 - val_accuracy: 0.9610\n",
      "Epoch 7/100\n",
      "178/178 [==============================] - 0s 216us/step - loss: 0.0704 - accuracy: 0.9775 - val_loss: 0.1794 - val_accuracy: 0.9610\n",
      "Epoch 8/100\n",
      "178/178 [==============================] - 0s 250us/step - loss: 0.0635 - accuracy: 0.9775 - val_loss: 0.1804 - val_accuracy: 0.9610\n",
      "Epoch 9/100\n",
      "178/178 [==============================] - 0s 211us/step - loss: 0.0573 - accuracy: 0.9775 - val_loss: 0.1680 - val_accuracy: 0.9610\n",
      "Epoch 10/100\n",
      "178/178 [==============================] - 0s 193us/step - loss: 0.0557 - accuracy: 0.9831 - val_loss: 0.1957 - val_accuracy: 0.9610\n",
      "Epoch 11/100\n",
      "178/178 [==============================] - 0s 223us/step - loss: 0.0501 - accuracy: 0.9831 - val_loss: 0.2013 - val_accuracy: 0.9610\n",
      "Epoch 12/100\n",
      "178/178 [==============================] - 0s 159us/step - loss: 0.0483 - accuracy: 0.9831 - val_loss: 0.2136 - val_accuracy: 0.9610\n",
      "Epoch 13/100\n",
      "178/178 [==============================] - 0s 182us/step - loss: 0.0519 - accuracy: 0.9831 - val_loss: 0.2079 - val_accuracy: 0.9610\n",
      "Epoch 14/100\n",
      "178/178 [==============================] - 0s 180us/step - loss: 0.0429 - accuracy: 0.9831 - val_loss: 0.2061 - val_accuracy: 0.9610\n",
      "Epoch 15/100\n",
      "178/178 [==============================] - 0s 177us/step - loss: 0.0482 - accuracy: 0.9831 - val_loss: 0.2171 - val_accuracy: 0.9610\n",
      "Epoch 16/100\n",
      "178/178 [==============================] - 0s 203us/step - loss: 0.0456 - accuracy: 0.9831 - val_loss: 0.2182 - val_accuracy: 0.9610\n",
      "Epoch 17/100\n",
      "178/178 [==============================] - 0s 197us/step - loss: 0.0444 - accuracy: 0.9831 - val_loss: 0.2394 - val_accuracy: 0.9610\n",
      "Epoch 18/100\n",
      "178/178 [==============================] - 0s 200us/step - loss: 0.0385 - accuracy: 0.9831 - val_loss: 0.2152 - val_accuracy: 0.9610\n",
      "Epoch 19/100\n",
      "178/178 [==============================] - 0s 212us/step - loss: 0.0413 - accuracy: 0.9888 - val_loss: 0.2459 - val_accuracy: 0.9610\n",
      "Epoch 20/100\n",
      "178/178 [==============================] - 0s 220us/step - loss: 0.0373 - accuracy: 0.9831 - val_loss: 0.2552 - val_accuracy: 0.9610\n",
      "Epoch 21/100\n",
      "178/178 [==============================] - 0s 224us/step - loss: 0.0397 - accuracy: 0.9775 - val_loss: 0.2240 - val_accuracy: 0.9610\n",
      "Epoch 22/100\n",
      "178/178 [==============================] - 0s 261us/step - loss: 0.0329 - accuracy: 0.9831 - val_loss: 0.2530 - val_accuracy: 0.9610\n",
      "Epoch 23/100\n",
      "178/178 [==============================] - 0s 223us/step - loss: 0.0292 - accuracy: 0.9831 - val_loss: 0.2405 - val_accuracy: 0.9610\n",
      "Epoch 24/100\n",
      "178/178 [==============================] - 0s 218us/step - loss: 0.0293 - accuracy: 0.9888 - val_loss: 0.2472 - val_accuracy: 0.9610\n",
      "Epoch 25/100\n",
      "178/178 [==============================] - 0s 177us/step - loss: 0.0272 - accuracy: 0.9831 - val_loss: 0.2720 - val_accuracy: 0.9610\n",
      "Epoch 26/100\n",
      "178/178 [==============================] - 0s 156us/step - loss: 0.0309 - accuracy: 0.9775 - val_loss: 0.2595 - val_accuracy: 0.9610\n",
      "Epoch 27/100\n",
      "178/178 [==============================] - 0s 208us/step - loss: 0.0270 - accuracy: 0.9775 - val_loss: 0.2846 - val_accuracy: 0.9610\n",
      "Epoch 28/100\n",
      "178/178 [==============================] - 0s 149us/step - loss: 0.0247 - accuracy: 0.9888 - val_loss: 0.2664 - val_accuracy: 0.9610\n",
      "Epoch 29/100\n",
      "178/178 [==============================] - 0s 162us/step - loss: 0.0247 - accuracy: 0.9831 - val_loss: 0.2722 - val_accuracy: 0.9610\n",
      "Epoch 30/100\n",
      "178/178 [==============================] - 0s 161us/step - loss: 0.0268 - accuracy: 0.9888 - val_loss: 0.2858 - val_accuracy: 0.9610\n",
      "Epoch 31/100\n",
      "178/178 [==============================] - 0s 243us/step - loss: 0.0248 - accuracy: 0.9888 - val_loss: 0.2733 - val_accuracy: 0.9610\n",
      "Epoch 32/100\n",
      "178/178 [==============================] - 0s 335us/step - loss: 0.0282 - accuracy: 0.9944 - val_loss: 0.2995 - val_accuracy: 0.9610\n",
      "Epoch 33/100\n",
      "178/178 [==============================] - 0s 248us/step - loss: 0.0214 - accuracy: 0.9888 - val_loss: 0.2766 - val_accuracy: 0.9610\n",
      "Epoch 34/100\n",
      "178/178 [==============================] - 0s 204us/step - loss: 0.0219 - accuracy: 0.9888 - val_loss: 0.2924 - val_accuracy: 0.9610\n",
      "Epoch 35/100\n",
      "178/178 [==============================] - 0s 220us/step - loss: 0.0217 - accuracy: 0.9888 - val_loss: 0.2959 - val_accuracy: 0.9610\n",
      "Epoch 36/100\n",
      "178/178 [==============================] - 0s 258us/step - loss: 0.0208 - accuracy: 0.9888 - val_loss: 0.2902 - val_accuracy: 0.9610\n",
      "Epoch 37/100\n",
      "178/178 [==============================] - 0s 383us/step - loss: 0.0207 - accuracy: 0.9888 - val_loss: 0.3193 - val_accuracy: 0.9610\n",
      "Epoch 38/100\n",
      "178/178 [==============================] - 0s 364us/step - loss: 0.0325 - accuracy: 0.9831 - val_loss: 0.3229 - val_accuracy: 0.9610\n",
      "Epoch 39/100\n",
      "178/178 [==============================] - 0s 360us/step - loss: 0.0353 - accuracy: 0.9888 - val_loss: 0.2936 - val_accuracy: 0.9610\n",
      "Epoch 40/100\n",
      "178/178 [==============================] - 0s 214us/step - loss: 0.0201 - accuracy: 0.9888 - val_loss: 0.3724 - val_accuracy: 0.9610\n",
      "Epoch 41/100\n",
      "178/178 [==============================] - 0s 227us/step - loss: 0.0267 - accuracy: 0.9831 - val_loss: 0.2569 - val_accuracy: 0.9610\n",
      "Epoch 42/100\n",
      "178/178 [==============================] - 0s 212us/step - loss: 0.0237 - accuracy: 0.9944 - val_loss: 0.2908 - val_accuracy: 0.9610\n",
      "Epoch 43/100\n",
      "178/178 [==============================] - 0s 274us/step - loss: 0.0300 - accuracy: 0.9831 - val_loss: 0.3088 - val_accuracy: 0.9610\n",
      "Epoch 44/100\n",
      "178/178 [==============================] - 0s 248us/step - loss: 0.0191 - accuracy: 0.9888 - val_loss: 0.2707 - val_accuracy: 0.9610\n",
      "Epoch 45/100\n",
      "178/178 [==============================] - 0s 226us/step - loss: 0.0174 - accuracy: 0.9944 - val_loss: 0.2683 - val_accuracy: 0.9610\n",
      "Epoch 46/100\n",
      "178/178 [==============================] - 0s 357us/step - loss: 0.0185 - accuracy: 0.9831 - val_loss: 0.2906 - val_accuracy: 0.9610\n",
      "Epoch 47/100\n",
      "178/178 [==============================] - 0s 223us/step - loss: 0.0165 - accuracy: 0.9888 - val_loss: 0.2893 - val_accuracy: 0.9610\n",
      "Epoch 48/100\n",
      "178/178 [==============================] - 0s 207us/step - loss: 0.0202 - accuracy: 0.9944 - val_loss: 0.3013 - val_accuracy: 0.9610\n",
      "Epoch 49/100\n",
      "178/178 [==============================] - 0s 267us/step - loss: 0.0170 - accuracy: 0.9888 - val_loss: 0.3166 - val_accuracy: 0.9610\n",
      "Epoch 50/100\n",
      "178/178 [==============================] - 0s 240us/step - loss: 0.0170 - accuracy: 0.9888 - val_loss: 0.3270 - val_accuracy: 0.9610\n",
      "Epoch 51/100\n",
      "178/178 [==============================] - 0s 308us/step - loss: 0.0161 - accuracy: 0.9944 - val_loss: 0.3134 - val_accuracy: 0.9610\n",
      "Epoch 52/100\n",
      "178/178 [==============================] - 0s 228us/step - loss: 0.0166 - accuracy: 0.9944 - val_loss: 0.3399 - val_accuracy: 0.9610\n",
      "Epoch 53/100\n",
      "178/178 [==============================] - 0s 202us/step - loss: 0.0143 - accuracy: 0.9944 - val_loss: 0.3305 - val_accuracy: 0.9610\n",
      "Epoch 54/100\n",
      "178/178 [==============================] - 0s 236us/step - loss: 0.0179 - accuracy: 0.9888 - val_loss: 0.3548 - val_accuracy: 0.9610\n",
      "Epoch 55/100\n",
      "178/178 [==============================] - 0s 252us/step - loss: 0.0145 - accuracy: 0.9944 - val_loss: 0.3527 - val_accuracy: 0.9610\n",
      "Epoch 56/100\n",
      "178/178 [==============================] - 0s 199us/step - loss: 0.0139 - accuracy: 0.9888 - val_loss: 0.3691 - val_accuracy: 0.9610\n"
     ]
    },
    {
     "name": "stdout",
     "output_type": "stream",
     "text": [
      "Epoch 57/100\n",
      "178/178 [==============================] - 0s 189us/step - loss: 0.0142 - accuracy: 0.9944 - val_loss: 0.3402 - val_accuracy: 0.9610\n",
      "Epoch 58/100\n",
      "178/178 [==============================] - 0s 164us/step - loss: 0.0149 - accuracy: 0.9944 - val_loss: 0.3661 - val_accuracy: 0.9610\n",
      "Epoch 59/100\n",
      "178/178 [==============================] - 0s 167us/step - loss: 0.0196 - accuracy: 0.9888 - val_loss: 0.3561 - val_accuracy: 0.9610\n",
      "Epoch 60/100\n",
      "178/178 [==============================] - 0s 188us/step - loss: 0.0174 - accuracy: 0.9888 - val_loss: 0.4052 - val_accuracy: 0.9610\n",
      "Epoch 61/100\n",
      "178/178 [==============================] - 0s 137us/step - loss: 0.0216 - accuracy: 0.9888 - val_loss: 0.3254 - val_accuracy: 0.9610\n",
      "Epoch 62/100\n",
      "178/178 [==============================] - 0s 138us/step - loss: 0.0216 - accuracy: 0.9944 - val_loss: 0.3765 - val_accuracy: 0.9610\n",
      "Epoch 63/100\n",
      "178/178 [==============================] - 0s 156us/step - loss: 0.0187 - accuracy: 0.9831 - val_loss: 0.3843 - val_accuracy: 0.9610\n",
      "Epoch 64/100\n",
      "178/178 [==============================] - 0s 139us/step - loss: 0.0184 - accuracy: 1.0000 - val_loss: 0.3684 - val_accuracy: 0.9610\n",
      "Epoch 65/100\n",
      "178/178 [==============================] - 0s 144us/step - loss: 0.0117 - accuracy: 0.9944 - val_loss: 0.3823 - val_accuracy: 0.9610\n",
      "Epoch 66/100\n",
      "178/178 [==============================] - 0s 174us/step - loss: 0.0148 - accuracy: 0.9888 - val_loss: 0.3556 - val_accuracy: 0.9610\n",
      "Epoch 67/100\n",
      "178/178 [==============================] - 0s 317us/step - loss: 0.0121 - accuracy: 0.9944 - val_loss: 0.3720 - val_accuracy: 0.9610\n",
      "Epoch 68/100\n",
      "178/178 [==============================] - 0s 170us/step - loss: 0.0108 - accuracy: 1.0000 - val_loss: 0.3967 - val_accuracy: 0.9610\n",
      "Epoch 69/100\n",
      "178/178 [==============================] - 0s 224us/step - loss: 0.0122 - accuracy: 1.0000 - val_loss: 0.3703 - val_accuracy: 0.9610\n",
      "Epoch 70/100\n",
      "178/178 [==============================] - 0s 162us/step - loss: 0.0109 - accuracy: 0.9944 - val_loss: 0.3837 - val_accuracy: 0.9610\n",
      "Epoch 71/100\n",
      "178/178 [==============================] - 0s 184us/step - loss: 0.0127 - accuracy: 0.9944 - val_loss: 0.3985 - val_accuracy: 0.9610\n",
      "Epoch 72/100\n",
      "178/178 [==============================] - 0s 239us/step - loss: 0.0171 - accuracy: 0.9888 - val_loss: 0.3815 - val_accuracy: 0.9610\n",
      "Epoch 73/100\n",
      "178/178 [==============================] - 0s 166us/step - loss: 0.0125 - accuracy: 0.9944 - val_loss: 0.4257 - val_accuracy: 0.9610\n",
      "Epoch 74/100\n",
      "178/178 [==============================] - 0s 171us/step - loss: 0.0164 - accuracy: 0.9888 - val_loss: 0.3696 - val_accuracy: 0.9610\n",
      "Epoch 75/100\n",
      "178/178 [==============================] - 0s 173us/step - loss: 0.0113 - accuracy: 0.9944 - val_loss: 0.4001 - val_accuracy: 0.9610\n",
      "Epoch 76/100\n",
      "178/178 [==============================] - 0s 156us/step - loss: 0.0110 - accuracy: 0.9944 - val_loss: 0.4003 - val_accuracy: 0.9610\n",
      "Epoch 77/100\n",
      "178/178 [==============================] - 0s 174us/step - loss: 0.0106 - accuracy: 0.9944 - val_loss: 0.4010 - val_accuracy: 0.9610\n",
      "Epoch 78/100\n",
      "178/178 [==============================] - 0s 248us/step - loss: 0.0100 - accuracy: 0.9944 - val_loss: 0.4066 - val_accuracy: 0.9610\n",
      "Epoch 79/100\n",
      "178/178 [==============================] - 0s 174us/step - loss: 0.0098 - accuracy: 1.0000 - val_loss: 0.4201 - val_accuracy: 0.9610\n",
      "Epoch 80/100\n",
      "178/178 [==============================] - 0s 158us/step - loss: 0.0107 - accuracy: 0.9944 - val_loss: 0.4076 - val_accuracy: 0.9610\n",
      "Epoch 81/100\n",
      "178/178 [==============================] - 0s 154us/step - loss: 0.0092 - accuracy: 1.0000 - val_loss: 0.4070 - val_accuracy: 0.9610\n",
      "Epoch 82/100\n",
      "178/178 [==============================] - 0s 167us/step - loss: 0.0095 - accuracy: 0.9944 - val_loss: 0.4157 - val_accuracy: 0.9610\n",
      "Epoch 83/100\n",
      "178/178 [==============================] - 0s 159us/step - loss: 0.0102 - accuracy: 0.9944 - val_loss: 0.4287 - val_accuracy: 0.9610\n",
      "Epoch 84/100\n",
      "178/178 [==============================] - 0s 161us/step - loss: 0.0102 - accuracy: 0.9944 - val_loss: 0.4237 - val_accuracy: 0.9610\n",
      "Epoch 85/100\n",
      "178/178 [==============================] - 0s 165us/step - loss: 0.0096 - accuracy: 0.9944 - val_loss: 0.4313 - val_accuracy: 0.9610\n",
      "Epoch 86/100\n",
      "178/178 [==============================] - 0s 149us/step - loss: 0.0092 - accuracy: 0.9944 - val_loss: 0.4284 - val_accuracy: 0.9610\n",
      "Epoch 87/100\n",
      "178/178 [==============================] - 0s 139us/step - loss: 0.0106 - accuracy: 1.0000 - val_loss: 0.4129 - val_accuracy: 0.9610\n",
      "Epoch 88/100\n",
      "178/178 [==============================] - 0s 151us/step - loss: 0.0131 - accuracy: 0.9944 - val_loss: 0.4431 - val_accuracy: 0.9610\n",
      "Epoch 89/100\n",
      "178/178 [==============================] - 0s 158us/step - loss: 0.0102 - accuracy: 0.9944 - val_loss: 0.4089 - val_accuracy: 0.9610\n",
      "Epoch 90/100\n",
      "178/178 [==============================] - 0s 138us/step - loss: 0.0095 - accuracy: 0.9944 - val_loss: 0.4320 - val_accuracy: 0.9610\n",
      "Epoch 91/100\n",
      "178/178 [==============================] - 0s 140us/step - loss: 0.0096 - accuracy: 0.9944 - val_loss: 0.4395 - val_accuracy: 0.9610\n",
      "Epoch 92/100\n",
      "178/178 [==============================] - 0s 151us/step - loss: 0.0104 - accuracy: 0.9944 - val_loss: 0.4369 - val_accuracy: 0.9610\n",
      "Epoch 93/100\n",
      "178/178 [==============================] - 0s 166us/step - loss: 0.0095 - accuracy: 0.9944 - val_loss: 0.4277 - val_accuracy: 0.9610\n",
      "Epoch 94/100\n",
      "178/178 [==============================] - 0s 161us/step - loss: 0.0082 - accuracy: 0.9944 - val_loss: 0.4466 - val_accuracy: 0.9610\n",
      "Epoch 95/100\n",
      "178/178 [==============================] - 0s 143us/step - loss: 0.0096 - accuracy: 0.9944 - val_loss: 0.4315 - val_accuracy: 0.9610\n",
      "Epoch 96/100\n",
      "178/178 [==============================] - 0s 138us/step - loss: 0.0091 - accuracy: 0.9944 - val_loss: 0.4343 - val_accuracy: 0.9610\n",
      "Epoch 97/100\n",
      "178/178 [==============================] - 0s 163us/step - loss: 0.0093 - accuracy: 0.9944 - val_loss: 0.4527 - val_accuracy: 0.9610\n",
      "Epoch 98/100\n",
      "178/178 [==============================] - 0s 141us/step - loss: 0.0087 - accuracy: 0.9944 - val_loss: 0.4428 - val_accuracy: 0.9610\n",
      "Epoch 99/100\n",
      "178/178 [==============================] - 0s 157us/step - loss: 0.0101 - accuracy: 0.9944 - val_loss: 0.4406 - val_accuracy: 0.9610\n",
      "Epoch 100/100\n",
      "178/178 [==============================] - 0s 164us/step - loss: 0.0089 - accuracy: 0.9944 - val_loss: 0.4672 - val_accuracy: 0.9610\n"
     ]
    },
    {
     "data": {
      "text/plain": [
       "<keras.callbacks.callbacks.History at 0x1a70537fd0>"
      ]
     },
     "execution_count": 121,
     "metadata": {},
     "output_type": "execute_result"
    }
   ],
   "source": [
    "model1.fit(X_train, y_train,\n",
    "          batch_size=32, epochs=100,\n",
    "          validation_data=(X_test, y_test))"
   ]
  },
  {
   "cell_type": "code",
   "execution_count": 122,
   "metadata": {},
   "outputs": [
    {
     "name": "stdout",
     "output_type": "stream",
     "text": [
      "77/77 [==============================] - 0s 137us/step\n",
      "Test set accuracy: 96.10%\n"
     ]
    }
   ],
   "source": [
    "test_acc = model1.evaluate(X_test, y_test)[1]\n",
    "print('Test set accuracy: %.2f%%' % (test_acc*100))"
   ]
  },
  {
   "cell_type": "code",
   "execution_count": null,
   "metadata": {},
   "outputs": [],
   "source": [
    "############# Method 2 ###################\n",
    "## Retrieved from \n",
    "## https://machinelearningmastery.com/binary-classification-tutorial-with-the-keras-deep-learning-library/"
   ]
  },
  {
   "cell_type": "code",
   "execution_count": 109,
   "metadata": {},
   "outputs": [],
   "source": [
    "from keras.models import Sequential\n",
    "from keras.layers import Dense\n",
    "from keras.wrappers.scikit_learn import KerasClassifier\n",
    "from sklearn.model_selection import cross_val_score\n",
    "from sklearn.preprocessing import LabelEncoder\n",
    "from sklearn.model_selection import StratifiedKFold\n",
    "from sklearn.preprocessing import StandardScaler\n",
    "from sklearn.pipeline import Pipeline"
   ]
  },
  {
   "cell_type": "code",
   "execution_count": 123,
   "metadata": {},
   "outputs": [],
   "source": [
    "def create_baseline():\n",
    "    # create model\n",
    "    model = Sequential()\n",
    "    model.add(Dense(1757, input_dim=1757, activation='relu'))\n",
    "    model.add(Dense(1, activation='sigmoid'))\n",
    "    # Compile model\n",
    "    model.compile(loss='binary_crossentropy', optimizer='adam', metrics=['accuracy'])\n",
    "    return model"
   ]
  },
  {
   "cell_type": "code",
   "execution_count": 126,
   "metadata": {},
   "outputs": [
    {
     "name": "stdout",
     "output_type": "stream",
     "text": [
      "Baseline: 95.31% (2.95%)\n"
     ]
    }
   ],
   "source": [
    "# evaluate model with standardized dataset\n",
    "estimator = KerasClassifier(build_fn=create_baseline, epochs=100, batch_size=5, verbose=0)\n",
    "kfold = StratifiedKFold(n_splits=10, shuffle=True)\n",
    "results = cross_val_score(estimator, X, y, cv=kfold)\n",
    "print(\"Baseline: %.2f%% (%.2f%%)\" % (results.mean()*100, results.std()*100))"
   ]
  },
  {
   "cell_type": "code",
   "execution_count": 111,
   "metadata": {},
   "outputs": [
    {
     "name": "stdout",
     "output_type": "stream",
     "text": [
      "Standardized: 96.06% (3.06%)\n"
     ]
    }
   ],
   "source": [
    "# evaluate baseline model with standardized dataset\n",
    "estimators = []\n",
    "estimators.append(('standardize', StandardScaler()))\n",
    "estimators.append(('mlp', KerasClassifier(build_fn=create_baseline, epochs=100, batch_size=5, verbose=0)))\n",
    "pipeline = Pipeline(estimators)\n",
    "kfold = StratifiedKFold(n_splits=10, shuffle=True)\n",
    "results = cross_val_score(pipeline, X, y, cv=kfold)\n",
    "print(\"Standardized: %.2f%% (%.2f%%)\" % (results.mean()*100, results.std()*100))"
   ]
  },
  {
   "cell_type": "code",
   "execution_count": 114,
   "metadata": {},
   "outputs": [
    {
     "name": "stdout",
     "output_type": "stream",
     "text": [
      "Larger: 96.06% (2.48%)\n"
     ]
    }
   ],
   "source": [
    "# larger model\n",
    "def create_larger():\n",
    "    # create model\n",
    "    model = Sequential()\n",
    "    model.add(Dense(1757, input_dim=1757, activation='relu'))\n",
    "    model.add(Dense(30, activation='relu'))\n",
    "    model.add(Dense(1, activation='sigmoid'))\n",
    "    # Compile model\n",
    "    model.compile(loss='binary_crossentropy', optimizer='adam', metrics=['accuracy'])\n",
    "    return model\n",
    "estimators = []\n",
    "estimators.append(('standardize', StandardScaler()))\n",
    "estimators.append(('mlp', KerasClassifier(build_fn=create_larger, epochs=100, batch_size=5, verbose=0)))\n",
    "pipeline = Pipeline(estimators)\n",
    "kfold = StratifiedKFold(n_splits=10, shuffle=True)\n",
    "results = cross_val_score(pipeline, X, y, cv=kfold)\n",
    "print(\"Larger: %.2f%% (%.2f%%)\" % (results.mean()*100, results.std()*100))"
   ]
  },
  {
   "cell_type": "code",
   "execution_count": 90,
   "metadata": {},
   "outputs": [
    {
     "name": "stdout",
     "output_type": "stream",
     "text": [
      "Collecting torch\n",
      "\u001b[?25l  Downloading https://files.pythonhosted.org/packages/4a/72/0282449efe6e8a7ab6354ac990b8275bd8c881dcbf95b3ef0a041da3897b/torch-1.4.0-cp37-none-macosx_10_9_x86_64.whl (81.1MB)\n",
      "\u001b[K    100% |████████████████████████████████| 81.1MB 343kB/s eta 0:00:01  4% |█▌                              | 3.8MB 34.5MB/s eta 0:00:03    92% |█████████████████████████████▌  | 74.9MB 14.6MB/s eta 0:00:01\n",
      "\u001b[?25hCollecting torchvision\n",
      "\u001b[?25l  Downloading https://files.pythonhosted.org/packages/02/c8/26ff0db66e6dd30a3ed2bfbceae9744359ae4cbb48864c70121a41c21ca5/torchvision-0.5.0-cp37-cp37m-macosx_10_9_x86_64.whl (438kB)\n",
      "\u001b[K    100% |████████████████████████████████| 440kB 14.2MB/s ta 0:00:01\n",
      "\u001b[?25hRequirement already satisfied: pillow>=4.1.1 in /Users/Rebecca/anaconda3/lib/python3.7/site-packages (from torchvision) (6.2.1)\n",
      "Requirement already satisfied: six in /Users/Rebecca/anaconda3/lib/python3.7/site-packages (from torchvision) (1.12.0)\n",
      "Requirement already satisfied: numpy in /Users/Rebecca/anaconda3/lib/python3.7/site-packages (from torchvision) (1.16.2)\n",
      "Installing collected packages: torch, torchvision\n",
      "Successfully installed torch-1.4.0 torchvision-0.5.0\n",
      "Note: you may need to restart the kernel to use updated packages.\n"
     ]
    }
   ],
   "source": [
    "pip install torch torchvision"
   ]
  },
  {
   "cell_type": "code",
   "execution_count": 91,
   "metadata": {},
   "outputs": [],
   "source": [
    "import torch\n",
    "import torch.nn.functional as F"
   ]
  },
  {
   "cell_type": "code",
   "execution_count": null,
   "metadata": {},
   "outputs": [],
   "source": [
    "######### Logistic Regression High-level implementation using the nn.Module API ##########\n",
    "## Retrieved from\n",
    "## https://github.com/rasbt/stat479-deep-learning-ss19/blob/master/L08_logistic/code/logistic-regression.ipynb"
   ]
  },
  {
   "cell_type": "code",
   "execution_count": 98,
   "metadata": {},
   "outputs": [],
   "source": [
    "device = torch.device(\"cuda:0\" if torch.cuda.is_available() else \"cpu\")\n",
    "def custom_where(cond, x_1, x_2):\n",
    "    return (cond * x_1) + ((1-cond) * x_2)"
   ]
  },
  {
   "cell_type": "code",
   "execution_count": 99,
   "metadata": {},
   "outputs": [],
   "source": [
    "class LogisticRegression2(torch.nn.Module):\n",
    "\n",
    "    def __init__(self, num_features):\n",
    "        super(LogisticRegression2, self).__init__()\n",
    "        self.linear = torch.nn.Linear(num_features, 1)\n",
    "        # initialize weights to zeros here,\n",
    "        # since we used zero weights in the\n",
    "        # manual approach\n",
    "        \n",
    "        self.linear.weight.detach().zero_()\n",
    "        self.linear.bias.detach().zero_()\n",
    "        # Note: the trailing underscore\n",
    "        # means \"in-place operation\" in the context\n",
    "        # of PyTorch\n",
    "        \n",
    "    def forward(self, x):\n",
    "        logits = self.linear(x)\n",
    "        probas = torch.sigmoid(logits)\n",
    "        return probas\n",
    "\n",
    "model2 = LogisticRegression2(num_features=1757).to(device)\n",
    "optimizer = torch.optim.SGD(model2.parameters(), lr=0.1)"
   ]
  },
  {
   "cell_type": "code",
   "execution_count": 100,
   "metadata": {},
   "outputs": [
    {
     "name": "stdout",
     "output_type": "stream",
     "text": [
      "Epoch: 001 | Train ACC: 0.955 | Cost: 1.242\n",
      "Epoch: 002 | Train ACC: 0.955 | Cost: 1.242\n",
      "Epoch: 003 | Train ACC: 0.955 | Cost: 1.242\n",
      "Epoch: 004 | Train ACC: 0.955 | Cost: 1.242\n",
      "Epoch: 005 | Train ACC: 0.955 | Cost: 1.242\n",
      "Epoch: 006 | Train ACC: 0.955 | Cost: 1.242\n",
      "Epoch: 007 | Train ACC: 0.955 | Cost: 1.242\n",
      "Epoch: 008 | Train ACC: 0.955 | Cost: 1.242\n",
      "Epoch: 009 | Train ACC: 0.955 | Cost: 1.242\n",
      "Epoch: 010 | Train ACC: 0.955 | Cost: 1.242\n",
      "Epoch: 011 | Train ACC: 0.955 | Cost: 1.242\n",
      "Epoch: 012 | Train ACC: 0.955 | Cost: 1.242\n",
      "Epoch: 013 | Train ACC: 0.955 | Cost: 1.242\n",
      "Epoch: 014 | Train ACC: 0.955 | Cost: 1.242\n",
      "Epoch: 015 | Train ACC: 0.955 | Cost: 1.242\n",
      "Epoch: 016 | Train ACC: 0.955 | Cost: 1.242\n",
      "Epoch: 017 | Train ACC: 0.955 | Cost: 1.242\n",
      "Epoch: 018 | Train ACC: 0.955 | Cost: 1.242\n",
      "Epoch: 019 | Train ACC: 0.955 | Cost: 1.242\n",
      "Epoch: 020 | Train ACC: 0.955 | Cost: 1.242\n",
      "Epoch: 021 | Train ACC: 0.955 | Cost: 1.242\n",
      "Epoch: 022 | Train ACC: 0.955 | Cost: 1.242\n",
      "Epoch: 023 | Train ACC: 0.955 | Cost: 1.242\n",
      "Epoch: 024 | Train ACC: 0.955 | Cost: 1.242\n",
      "Epoch: 025 | Train ACC: 0.955 | Cost: 1.242\n",
      "Epoch: 026 | Train ACC: 0.955 | Cost: 1.242\n",
      "Epoch: 027 | Train ACC: 0.955 | Cost: 1.242\n",
      "Epoch: 028 | Train ACC: 0.955 | Cost: 1.242\n",
      "Epoch: 029 | Train ACC: 0.955 | Cost: 1.242\n",
      "Epoch: 030 | Train ACC: 0.955 | Cost: 1.242\n",
      "\n",
      "Model parameters:\n",
      "  Weights: Parameter containing:\n",
      "tensor([[-7.7000, -8.2000, -8.2000,  ...,  0.0000, -0.1500, -0.1500]],\n",
      "       requires_grad=True)\n",
      "  Bias: Parameter containing:\n",
      "tensor([-8.1000], requires_grad=True)\n"
     ]
    }
   ],
   "source": [
    "def comp_accuracy(label_var, pred_probas):\n",
    "    pred_labels = custom_where((pred_probas > 0.5).float(), 1, 0).view(-1)\n",
    "    acc = torch.sum(pred_labels == label_var.view(-1)).float() / label_var.size(0)\n",
    "    return acc\n",
    "\n",
    "\n",
    "num_epochs = 30\n",
    "\n",
    "X_train_tensor = torch.tensor(X_train, dtype=torch.float32, device=device)\n",
    "y_train_tensor = torch.tensor(y_train, dtype=torch.float32, device=device).view(-1, 1)\n",
    "\n",
    "\n",
    "for epoch in range(num_epochs):\n",
    "    \n",
    "    #### Compute outputs ####\n",
    "    out = model2(X_train_tensor)\n",
    "    \n",
    "    #### Compute gradients ####\n",
    "    cost = F.binary_cross_entropy(out, y_train_tensor, reduction='sum')\n",
    "    optimizer.zero_grad()\n",
    "    cost.backward()\n",
    "    \n",
    "    #### Update weights ####  \n",
    "    optimizer.step()\n",
    "    \n",
    "    #### Logging ####      \n",
    "    pred_probas = model2(X_train_tensor)\n",
    "    acc = comp_accuracy(y_train_tensor, pred_probas)\n",
    "    print('Epoch: %03d' % (epoch + 1), end=\"\")\n",
    "    print(' | Train ACC: %.3f' % acc, end=\"\")\n",
    "    print(' | Cost: %.3f' % F.binary_cross_entropy(pred_probas, y_train_tensor))\n",
    "\n",
    "\n",
    "    \n",
    "print('\\nModel parameters:')\n",
    "print('  Weights: %s' % model2.linear.weight)\n",
    "print('  Bias: %s' % model2.linear.bias)"
   ]
  },
  {
   "cell_type": "code",
   "execution_count": 103,
   "metadata": {},
   "outputs": [
    {
     "name": "stdout",
     "output_type": "stream",
     "text": [
      "Test set accuracy: 96.10%\n"
     ]
    }
   ],
   "source": [
    "X_test_tensor = torch.tensor(X_test, dtype=torch.float32, device=device)\n",
    "y_test_tensor = torch.tensor(y_test, dtype=torch.float32, device=device)\n",
    "\n",
    "pred_probas = model2(X_test_tensor)\n",
    "test_acc = comp_accuracy(y_test_tensor, pred_probas)\n",
    "\n",
    "print('Test set accuracy: %.2f%%' % (test_acc*100))"
   ]
  },
  {
   "cell_type": "code",
   "execution_count": null,
   "metadata": {},
   "outputs": [],
   "source": []
  }
 ],
 "metadata": {
  "kernelspec": {
   "display_name": "Python 3",
   "language": "python",
   "name": "python3"
  },
  "language_info": {
   "codemirror_mode": {
    "name": "ipython",
    "version": 3
   },
   "file_extension": ".py",
   "mimetype": "text/x-python",
   "name": "python",
   "nbconvert_exporter": "python",
   "pygments_lexer": "ipython3",
   "version": "3.7.3"
  }
 },
 "nbformat": 4,
 "nbformat_minor": 2
}
